{
  "nbformat": 4,
  "nbformat_minor": 0,
  "metadata": {
    "colab": {
      "provenance": [],
      "include_colab_link": true
    },
    "kernelspec": {
      "name": "python3",
      "display_name": "Python 3"
    },
    "language_info": {
      "name": "python"
    }
  },
  "cells": [
    {
      "cell_type": "markdown",
      "metadata": {
        "id": "view-in-github",
        "colab_type": "text"
      },
      "source": [
        "<a href=\"https://colab.research.google.com/github/joaovitorfantecelle/ALGESTDADOS_20251/blob/main/C%C3%B3pia_de_Lista_de_Exerc%C3%ADcios_I.ipynb\" target=\"_parent\"><img src=\"https://colab.research.google.com/assets/colab-badge.svg\" alt=\"Open In Colab\"/></a>"
      ]
    },
    {
      "cell_type": "markdown",
      "source": [
        "Victor Gabirel 1-15\n",
        "--- João Vitor 16-30"
      ],
      "metadata": {
        "id": "bkZGsDMoY3fX"
      }
    },
    {
      "cell_type": "code",
      "execution_count": null,
      "metadata": {
        "colab": {
          "base_uri": "https://localhost:8080/"
        },
        "id": "MEkLUhBEXKQf",
        "outputId": "1b8ff40b-e413-4390-eb95-46e4c0c79732"
      },
      "outputs": [
        {
          "output_type": "stream",
          "name": "stdout",
          "text": [
            "qual o número?50\n",
            "esse número é igual ou maior que 50\n"
          ]
        }
      ],
      "source": [
        "#1\n",
        "num = int (input('qual o número?'))\n",
        "if num > 50:\n",
        "  print('esse nú1num=mero é menor que 50')\n",
        "else:\n",
        "  print('esse número é igual ou maior que 50')\n"
      ]
    },
    {
      "cell_type": "code",
      "source": [
        "#2\n",
        "num= int (input('qual o número?'))\n",
        "if num%7 == 0:\n",
        "  print('esse número é divísivel por 7')\n",
        "else:\n",
        "  print('esse número não é divísivel por 7')"
      ],
      "metadata": {
        "colab": {
          "base_uri": "https://localhost:8080/"
        },
        "id": "pm3LzszmXzKZ",
        "outputId": "b0707139-c8d0-400d-902d-341ef9996aa7"
      },
      "execution_count": null,
      "outputs": [
        {
          "output_type": "stream",
          "name": "stdout",
          "text": [
            "qual o número?15\n",
            "esse número não é divísivel por 7\n"
          ]
        }
      ]
    },
    {
      "cell_type": "code",
      "source": [
        "#3\n",
        "name= input('qual o nome?')\n",
        "if 'o' in name:\n",
        "  print('esse nome tem a letra O')\n",
        "else:\n",
        "  print('esse nome não tem a letra O')"
      ],
      "metadata": {
        "colab": {
          "base_uri": "https://localhost:8080/"
        },
        "id": "6mJwKIBUZSo4",
        "outputId": "600990c1-8441-4760-d206-32725513b5f1"
      },
      "execution_count": 1,
      "outputs": [
        {
          "output_type": "stream",
          "name": "stdout",
          "text": [
            "qual o nome?Victor\n",
            "esse nome tem a letra O\n"
          ]
        }
      ]
    },
    {
      "cell_type": "code",
      "source": [
        "#4\n",
        "num= int(input('Qual o número?'))\n",
        "if num % 10 == 0:\n",
        "  print(f'{num} termina em 0.')\n",
        "else:\n",
        "  print(f'{num} não termina em 0.')"
      ],
      "metadata": {
        "id": "CnbZ4yI2ZgCZ",
        "colab": {
          "base_uri": "https://localhost:8080/"
        },
        "outputId": "543fd80e-8892-4029-d65c-354df039b72e"
      },
      "execution_count": null,
      "outputs": [
        {
          "output_type": "stream",
          "name": "stdout",
          "text": [
            "Qual o número?128736946009900\n",
            "128736946009900 termina em 0.\n"
          ]
        }
      ]
    },
    {
      "cell_type": "code",
      "source": [
        "#5\n",
        "i= int(input('Qual a sua idade?'))\n",
        "if i >= 16:\n",
        "  print('Voce tem idade para votar')\n",
        "else:\n",
        "  print('Voce não pode votar')"
      ],
      "metadata": {
        "colab": {
          "base_uri": "https://localhost:8080/"
        },
        "id": "P04dkr_POmHY",
        "outputId": "e39f74bb-9705-40af-9532-859704def940"
      },
      "execution_count": null,
      "outputs": [
        {
          "output_type": "stream",
          "name": "stdout",
          "text": [
            "Qual a sua idade?17\n",
            "Voce tem idade para votar\n"
          ]
        }
      ]
    },
    {
      "cell_type": "code",
      "source": [
        "#6\n",
        "c= input(\"Digite alguma coisa  \")\n",
        "if c.lower() in ('a', 'e', 'i', 'o', 'u'):\n",
        "  print('é uma vogal.')\n",
        "else:\n",
        "  print('não é uma vogal.')"
      ],
      "metadata": {
        "colab": {
          "base_uri": "https://localhost:8080/"
        },
        "id": "J-pjgUBOPncb",
        "outputId": "6846d521-721d-49b7-b818-cdaaa1a0454f"
      },
      "execution_count": null,
      "outputs": [
        {
          "output_type": "stream",
          "name": "stdout",
          "text": [
            "Digite alguma coisa  k\n",
            "não é uma vogal.\n"
          ]
        }
      ]
    },
    {
      "cell_type": "code",
      "source": [
        "#7\n",
        "t= float(input('Qual a temperatura?'))\n",
        "if t<= 0:\n",
        "  print('esta frio')\n",
        "elif 0<t<20:\n",
        "  print('esta normal')\n",
        "else:\n",
        "  print('esta quente')"
      ],
      "metadata": {
        "colab": {
          "base_uri": "https://localhost:8080/"
        },
        "id": "C78tnTPKRAKO",
        "outputId": "a6eb4a96-c506-4a2f-e6b4-2beaba8d6959"
      },
      "execution_count": null,
      "outputs": [
        {
          "output_type": "stream",
          "name": "stdout",
          "text": [
            "Qual a temperatura?99\n",
            "esta quente\n"
          ]
        }
      ]
    },
    {
      "cell_type": "code",
      "source": [
        "#8\n",
        "num= float(input('qual o número?'))\n",
        "if num > 1000:\n",
        "  print('esse número é maior que 1000')\n",
        "elif num == 1000:\n",
        "  print('esse número é 1000')\n",
        "else:\n",
        "  print('esse número é menor que 1000')"
      ],
      "metadata": {
        "colab": {
          "base_uri": "https://localhost:8080/"
        },
        "id": "Q-jizxB-S9Q4",
        "outputId": "1e132c48-c305-4ea3-8a07-f8a666000103"
      },
      "execution_count": null,
      "outputs": [
        {
          "output_type": "stream",
          "name": "stdout",
          "text": [
            "qual o número?-1\n",
            "esse número é menor que 1000\n"
          ]
        }
      ]
    },
    {
      "cell_type": "code",
      "source": [
        "#9\n",
        "mny= float(input('quanto deve ser pago?'))\n",
        "if mny % 50 == 0:\n",
        "  print('pode ser pago com apenas notas de 50')\n",
        "else:\n",
        "  print('nao pd ser pago apenas com notas de 50')"
      ],
      "metadata": {
        "colab": {
          "base_uri": "https://localhost:8080/"
        },
        "id": "BMCtSaSaUKg0",
        "outputId": "080b6778-62da-48ef-a680-0f6344c513c2"
      },
      "execution_count": null,
      "outputs": [
        {
          "output_type": "stream",
          "name": "stdout",
          "text": [
            "quanto deve ser pago?999900\n",
            "pode ser pago com apenas notas de 50\n"
          ]
        }
      ]
    },
    {
      "cell_type": "code",
      "source": [
        "#10\n",
        "n= float(input('qual o número?'))\n",
        "if n<=100:\n",
        "  print(f'{n} é menor que 100')\n",
        "elif 100<n<200:\n",
        "  print(f'{n} esta entre 100 e 200')\n",
        "else:\n",
        "  print(f'{n} é maior que 200')"
      ],
      "metadata": {
        "colab": {
          "base_uri": "https://localhost:8080/"
        },
        "id": "CDjmsIlgU7IJ",
        "outputId": "3e4f5cf1-62be-4bb8-df40-d37f02f3799a"
      },
      "execution_count": null,
      "outputs": [
        {
          "output_type": "stream",
          "name": "stdout",
          "text": [
            "qual o número?199\n",
            "199.0 esta entre 100 e 200\n"
          ]
        }
      ]
    },
    {
      "cell_type": "code",
      "source": [
        "#11\n",
        "h= float(input('qual a altura da arvore?(em Metros)  '))\n",
        "if h<=0:\n",
        "  print('altura invalida')\n",
        "elif h<=5:\n",
        "  print('é uma arvore baixa')\n",
        "else:\n",
        "  print('é uma arvore alta')\n"
      ],
      "metadata": {
        "colab": {
          "base_uri": "https://localhost:8080/"
        },
        "id": "vesOY4TvYODO",
        "outputId": "5fa467e8-a49a-4e56-df41-292bae1e80a7"
      },
      "execution_count": null,
      "outputs": [
        {
          "output_type": "stream",
          "name": "stdout",
          "text": [
            "qual a altura da arvore?(em Metros)  7\n",
            "é uma arvore alta\n"
          ]
        }
      ]
    },
    {
      "cell_type": "code",
      "source": [
        "#12\n",
        "tl= float(input('qual a temperatura do liquido?  '))\n",
        "if tl<= 0:\n",
        "  print('o liquido esta congelado')\n",
        "elif 0<tl<=100:\n",
        "  print('o liquido esta no estado liquido')\n",
        "else:\n",
        "  print('o liquido esta no estado de ebulição')"
      ],
      "metadata": {
        "colab": {
          "base_uri": "https://localhost:8080/"
        },
        "id": "RhupsQgUZLT1",
        "outputId": "45522da6-248a-4245-c339-2de76cf5f3d3"
      },
      "execution_count": null,
      "outputs": [
        {
          "output_type": "stream",
          "name": "stdout",
          "text": [
            "qual a temperatura do liquido?  12\n",
            "o liquido esta no estado liquido\n"
          ]
        }
      ]
    },
    {
      "cell_type": "code",
      "source": [
        "#13\n",
        "num= int(input('qual o numero? '))\n",
        "if num % 10 == 0:\n",
        "  print(f'{num} é multiplo de 10')\n",
        "else:\n",
        "  print(f'{num} não é multiplo de 10')"
      ],
      "metadata": {
        "colab": {
          "base_uri": "https://localhost:8080/"
        },
        "id": "3WXUeQzDd9Ak",
        "outputId": "42fa9c5d-3a66-458c-f10b-e28ea3af326b"
      },
      "execution_count": null,
      "outputs": [
        {
          "output_type": "stream",
          "name": "stdout",
          "text": [
            "qual o numero? 19800\n",
            "19800 é multiplo de 10\n"
          ]
        }
      ]
    },
    {
      "cell_type": "code",
      "source": [
        "#14\n",
        "nfa1 = float(input('qual a nota do aluno 1?'))\n",
        "nfa2 = float(input('qual a nota do aluno 2?'))\n",
        "if nfa1>nfa2:\n",
        "  print('o aluno 1 tem mais nota que aluno 2')\n",
        "elif nfa1==nfa2:\n",
        "  print('os alunos tem a msm nota')\n",
        "else:\n",
        "  print('o aluno 2 tem mais nota que o aluno 1')"
      ],
      "metadata": {
        "colab": {
          "base_uri": "https://localhost:8080/"
        },
        "id": "OdwvthKOe0Ky",
        "outputId": "86c73896-870f-46dc-ee3a-bfb5d35f3286"
      },
      "execution_count": null,
      "outputs": [
        {
          "output_type": "stream",
          "name": "stdout",
          "text": [
            "qual a nota do aluno 1?9\n",
            "qual a nota do aluno 2?10\n",
            "o aluno 2 tem mais nota que o aluno 1\n"
          ]
        }
      ]
    },
    {
      "cell_type": "code",
      "source": [
        "#15\n",
        "f= input('qual o nome da fruta?  ')\n",
        "if 'e' in f or 'E' in f:\n",
        "  print(f'{f} tem a letra \"e\"')\n",
        "else:\n",
        "  print(f'{f} nao tem a letra \"e\"')"
      ],
      "metadata": {
        "colab": {
          "base_uri": "https://localhost:8080/"
        },
        "id": "Byu59LxBe596",
        "outputId": "0a3b24df-fc4d-4b6f-e065-c268e3658094"
      },
      "execution_count": null,
      "outputs": [
        {
          "output_type": "stream",
          "name": "stdout",
          "text": [
            "qual o nome da fruta?  maçã\n",
            "maçã nao tem a letra \"e\"\n"
          ]
        }
      ]
    },
    {
      "cell_type": "code",
      "source": [
        "#16\n",
        "velocidade = float(input('Digite a velocidade de um carro em km/h: '))\n",
        "if velocidade > 80:\n",
        "  print(f'O carro está com a velocidade acima de 80 km/h.')\n",
        "else:\n",
        "  print(f'O carro está com a velocidade abaixo de 80km/h.')"
      ],
      "metadata": {
        "colab": {
          "base_uri": "https://localhost:8080/"
        },
        "id": "-rqfpqJkVodd",
        "outputId": "a0358c0a-dfca-4de5-e284-2685bcf7272d"
      },
      "execution_count": null,
      "outputs": [
        {
          "output_type": "stream",
          "name": "stdout",
          "text": [
            "Digite a velocidade de um carro em km/h: 50\n",
            "O carro está com a velocidade abaixo de 80km/h.\n"
          ]
        }
      ]
    },
    {
      "cell_type": "code",
      "source": [
        "#17\n",
        "num = int(input('Digite um número: '))\n",
        "if num%4==0 or num%5==0 :\n",
        "  print(f'{num} é divisível de 4 ou 5.')\n",
        "else:\n",
        "  print(f'{num} não é divisível de 4 ou 5.')"
      ],
      "metadata": {
        "colab": {
          "base_uri": "https://localhost:8080/"
        },
        "id": "bfjY4QKuV9LF",
        "outputId": "3fa5d5dd-82ab-4037-83c5-5226173c0485"
      },
      "execution_count": null,
      "outputs": [
        {
          "output_type": "stream",
          "name": "stdout",
          "text": [
            "Digite um número: 20\n",
            "20 é divisível de 4 ou 5.\n"
          ]
        }
      ]
    },
    {
      "cell_type": "code",
      "source": [
        "#18\n",
        "palavra = input('Digite palavra: ')\n",
        "if 'Z' or 'z' in palavra:\n",
        "  print(f'{palavra} tem a letra Z.')\n",
        "else:\n",
        "  print(f'{palavra} não tem a letra Z.')"
      ],
      "metadata": {
        "colab": {
          "base_uri": "https://localhost:8080/"
        },
        "id": "Jc6SIZgTWBch",
        "outputId": "45798b9f-3344-417f-b86f-c8cb247833e1"
      },
      "execution_count": null,
      "outputs": [
        {
          "output_type": "stream",
          "name": "stdout",
          "text": [
            "Digite palavra: zaga\n",
            "zaga tem a letra Z.\n"
          ]
        }
      ]
    },
    {
      "cell_type": "code",
      "source": [
        "#19\n",
        "pedido = int(input('Digite a quantidade de itens do pedido: '))\n",
        "if pedido > 15:\n",
        "  print(f'Seu pedido tem mais de 15 unidades.')\n",
        "elif pedido == 15:\n",
        "  print(f'Seu pedido tem 15 unidades.')\n",
        "else:\n",
        "  print(f'Seu pedido tem menos de 15 unidades.')"
      ],
      "metadata": {
        "colab": {
          "base_uri": "https://localhost:8080/"
        },
        "id": "O52J4AKpWGV9",
        "outputId": "548695b0-ce63-4d51-9800-94f2b00eaf79"
      },
      "execution_count": null,
      "outputs": [
        {
          "output_type": "stream",
          "name": "stdout",
          "text": [
            "Digite a quantidade de itens do pedido: 25\n",
            "Seu pedido tem mais de 15 unidades.\n"
          ]
        }
      ]
    },
    {
      "cell_type": "code",
      "source": [
        "#20\n",
        "num = int(input('Digite um número: '))\n",
        "if 7 == num%10:\n",
        "  print(f'Seu número termina com o dígito 7.')\n",
        "else:\n",
        "  print(f'Seu número não termina com o dígito 7.')"
      ],
      "metadata": {
        "colab": {
          "base_uri": "https://localhost:8080/"
        },
        "id": "yeiCBzIxWKtt",
        "outputId": "276ddf1c-15bb-4007-9a54-fb88819f0755"
      },
      "execution_count": null,
      "outputs": [
        {
          "output_type": "stream",
          "name": "stdout",
          "text": [
            "Digite um número: 71\n",
            "Seu número não termina com o dígito 7.\n"
          ]
        }
      ]
    },
    {
      "cell_type": "code",
      "source": [
        "#21\n",
        "ano = int(input('Digite o ano de fabricação do veículo: '))\n",
        "if 2025-ano > 20:\n",
        "  print(f'O veículo tem mais de 20 anos.')\n",
        "elif 2025-ano < 20:\n",
        "  print(f'O veiculo tem menos de 20 anos.')\n",
        "else:\n",
        "  print(f'O veículo tem 20 anos.')"
      ],
      "metadata": {
        "colab": {
          "base_uri": "https://localhost:8080/"
        },
        "id": "smjZRZg4WOSL",
        "outputId": "9f3e2891-68ef-4ad3-8e76-254687a63ecf"
      },
      "execution_count": null,
      "outputs": [
        {
          "output_type": "stream",
          "name": "stdout",
          "text": [
            "Digite o ano de fabricação do veículo: 2000\n",
            "O veículo tem mais de 20 anos.\n"
          ]
        }
      ]
    },
    {
      "cell_type": "markdown",
      "source": [],
      "metadata": {
        "id": "hGfZwYhqYm-E"
      }
    },
    {
      "cell_type": "code",
      "source": [
        "#22\n",
        "num = input('Digite um número de telefone: ')\n",
        "if '9' in num:\n",
        "  print(f'O número {num} contém o dígito 9.')\n",
        "else:\n",
        "  print(f'O número {num} não contém o dígito 9.')"
      ],
      "metadata": {
        "colab": {
          "base_uri": "https://localhost:8080/"
        },
        "id": "nfXvjq6PWTRv",
        "outputId": "6452eddd-dcc3-4997-87a8-54984758e38c"
      },
      "execution_count": null,
      "outputs": [
        {
          "output_type": "stream",
          "name": "stdout",
          "text": [
            "Digite um número de telefone: 56457168\n",
            "O número 56457168 não contém o dígito 9.\n"
          ]
        }
      ]
    },
    {
      "cell_type": "code",
      "source": [
        "#23\n",
        "num = int(input('Digite um número:'))\n",
        "if 99 >= num >= 10:\n",
        "  print(f'O número possui 2 dígitos.')\n",
        "else:\n",
        "  print(f'O número não possui dígitos.')"
      ],
      "metadata": {
        "colab": {
          "base_uri": "https://localhost:8080/"
        },
        "id": "rAkWM_MxWXBL",
        "outputId": "b6bf1802-3772-4425-8c97-6c7d2b263e4a"
      },
      "execution_count": null,
      "outputs": [
        {
          "output_type": "stream",
          "name": "stdout",
          "text": [
            "Digite um número:74\n",
            "O número possui 2 dígitos.\n"
          ]
        }
      ]
    },
    {
      "cell_type": "code",
      "source": [
        "#24\n",
        "preço = int(input('Digite o preço do ingresso: '))\n",
        "desconto = preço - (preço*15/100)\n",
        "if desconto > 50:\n",
        "  print(f'O preço do ingresso é {desconto} reais ou seja maior que 50 reais.')\n",
        "else:\n",
        "  print(f'O preço do ingresso é {desconto} reais ou seja menor que 50 reais.')"
      ],
      "metadata": {
        "colab": {
          "base_uri": "https://localhost:8080/"
        },
        "id": "gUD3PgAfWZOD",
        "outputId": "d7de648d-812b-42d9-f1cf-768988adc830"
      },
      "execution_count": null,
      "outputs": [
        {
          "output_type": "stream",
          "name": "stdout",
          "text": [
            "Digite o preço do ingresso: 50\n",
            "O preço do ingresso é 42.5 reais ou seja menor que 50 reais.\n"
          ]
        }
      ]
    },
    {
      "cell_type": "code",
      "source": [
        "25#\n",
        "num = int(input('Digite um número: '))\n",
        "if num%8 == 0:\n",
        "  print(f'O número {num} é divisível por 8.')\n",
        "else:\n",
        "  print(f'O número {num} não é divisível por 8.')"
      ],
      "metadata": {
        "colab": {
          "base_uri": "https://localhost:8080/"
        },
        "id": "9esH9UlFWeBu",
        "outputId": "56f941cc-39b3-4084-b2ad-11313b7f4bbe"
      },
      "execution_count": null,
      "outputs": [
        {
          "output_type": "stream",
          "name": "stdout",
          "text": [
            "Digite um número: 16\n",
            "O número 16 é divisível por 8.\n"
          ]
        }
      ]
    },
    {
      "cell_type": "code",
      "source": [
        "#26\n",
        "num = int(input('Digite um número: '))\n",
        "if num%5 == 0 and num%9 == 0:\n",
        "  print(f'O número {num} é divisível tanto por 5 quanto por 9.')\n",
        "else:\n",
        "  print(f'O número {num} não é divisível por 5 e por 9.')"
      ],
      "metadata": {
        "colab": {
          "base_uri": "https://localhost:8080/"
        },
        "id": "af4BC_oJWhcw",
        "outputId": "c6a871cf-953e-4a1d-98f8-37b1ce407203"
      },
      "execution_count": null,
      "outputs": [
        {
          "output_type": "stream",
          "name": "stdout",
          "text": [
            "Digite um número: 45\n",
            "O número 45 é divisível tanto por 5 quanto por 9.\n"
          ]
        }
      ]
    },
    {
      "cell_type": "code",
      "source": [
        "#27\n",
        "peso = float(input('Digite o peso do objeto em kg: '))\n",
        "if peso > 25:\n",
        "  print(f'O objeto pesa mais de 25 kg.')\n",
        "elif peso == 25:\n",
        "  print(f'O objeto pesa 25 kg.')\n",
        "else:\n",
        "  print(f'O objeto não pesa mais de 25 kg.')"
      ],
      "metadata": {
        "colab": {
          "base_uri": "https://localhost:8080/"
        },
        "id": "yfa22l2RWmW_",
        "outputId": "5e599315-4d61-4106-b083-191a50a74f67"
      },
      "execution_count": null,
      "outputs": [
        {
          "output_type": "stream",
          "name": "stdout",
          "text": [
            "Digite o peso do objeto em kg: 25\n",
            "O objeto pesa 25 kg.\n"
          ]
        }
      ]
    },
    {
      "cell_type": "code",
      "source": [
        "#28\n",
        "letra = input('Digite uma letra: ')\n",
        "letra = letra.upper()\n",
        "if letra == 'A' or letra == 'E' or letra == 'I' or letra == 'O' or letra == 'U':\n",
        "  print(f'A letra {letra} é uma vogal.')\n",
        "else:\n",
        "  print(f'A letra {letra} é uma consoante.')"
      ],
      "metadata": {
        "colab": {
          "base_uri": "https://localhost:8080/"
        },
        "id": "lZkEhS46WqOu",
        "outputId": "6e20d999-0523-4c38-a87d-ee49b6c819b0"
      },
      "execution_count": null,
      "outputs": [
        {
          "output_type": "stream",
          "name": "stdout",
          "text": [
            "Digite uma letra: z\n",
            "A letra Z é uma consoante.\n"
          ]
        }
      ]
    },
    {
      "cell_type": "code",
      "source": [
        "#29\n",
        "velocidade = float(input('Digite a velocidade do veículo em km/h: '))\n",
        "if velocidade > 60:\n",
        "  print(f'O veículo está acima do limite de 60 km/h.')\n",
        "elif velocidade < 30:\n",
        "  print(f'O veículo está abaixo do limite de 60 km/h.')\n",
        "else:\n",
        "  print(f'O veículo está dentro do limite de 60 km/h.')"
      ],
      "metadata": {
        "colab": {
          "base_uri": "https://localhost:8080/"
        },
        "id": "4DYF-0WpWt6o",
        "outputId": "9c30dbe1-27b7-4a42-c5f6-d3921e604c21"
      },
      "execution_count": null,
      "outputs": [
        {
          "output_type": "stream",
          "name": "stdout",
          "text": [
            "Digite a velocidade do veículo em km/h: 50\n",
            "O veículo está dentro do limite de 60 km/h.\n"
          ]
        }
      ]
    },
    {
      "cell_type": "code",
      "source": [
        "30#\n",
        "valor = float(input('Digite o valor em reais: '))\n",
        "if valor >= 200:\n",
        "  print(f'Você pode comprar o produto.')\n",
        "else:\n",
        "  print(f'Você não pode comprar o produto.')"
      ],
      "metadata": {
        "colab": {
          "base_uri": "https://localhost:8080/"
        },
        "id": "s_2LHDEmWxRR",
        "outputId": "d83873e7-5bed-44e5-c804-c91b7ae7a6f8"
      },
      "execution_count": null,
      "outputs": [
        {
          "output_type": "stream",
          "name": "stdout",
          "text": [
            "Digite o valor em reais: 195\n",
            "Você não pode comprar o produto.\n"
          ]
        }
      ]
    }
  ]
}