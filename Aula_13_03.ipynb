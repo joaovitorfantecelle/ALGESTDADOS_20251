{
  "nbformat": 4,
  "nbformat_minor": 0,
  "metadata": {
    "colab": {
      "provenance": [],
      "authorship_tag": "ABX9TyMNngRVhGZGUcXutjZzNFCs",
      "include_colab_link": true
    },
    "kernelspec": {
      "name": "python3",
      "display_name": "Python 3"
    },
    "language_info": {
      "name": "python"
    }
  },
  "cells": [
    {
      "cell_type": "markdown",
      "metadata": {
        "id": "view-in-github",
        "colab_type": "text"
      },
      "source": [
        "<a href=\"https://colab.research.google.com/github/joaovitorfantecelle/ALGESTDADOS_20251/blob/main/Aula_13_03.ipynb\" target=\"_parent\"><img src=\"https://colab.research.google.com/assets/colab-badge.svg\" alt=\"Open In Colab\"/></a>"
      ]
    },
    {
      "cell_type": "code",
      "execution_count": 1,
      "metadata": {
        "colab": {
          "base_uri": "https://localhost:8080/"
        },
        "id": "dmIF5JRUQsto",
        "outputId": "64ff5f2c-21c9-4443-c009-4dabf4321589"
      },
      "outputs": [
        {
          "output_type": "stream",
          "name": "stdout",
          "text": [
            "digite o primeiro número:1\n",
            "digite o segundo número:2\n",
            "3\n"
          ]
        }
      ],
      "source": [
        "num1 = int(input('digite o primeiro número:'))\n",
        "num2 = int(input('digite o segundo número:'))\n",
        "resultado = num1 + num2\n",
        "print(resultado)"
      ]
    },
    {
      "cell_type": "code",
      "source": [
        "nome = input('digite seu nome:')\n",
        "sobre_nome = input('digite seu sobre nome:')\n",
        "print(f'Seu nome é {nome} {sobre_nome}')"
      ],
      "metadata": {
        "colab": {
          "base_uri": "https://localhost:8080/"
        },
        "id": "1-Vhe7fqRLko",
        "outputId": "b7471039-b70c-496d-d3d8-528af4737b13"
      },
      "execution_count": 4,
      "outputs": [
        {
          "output_type": "stream",
          "name": "stdout",
          "text": [
            "digite seu nome:João Vitor\n",
            "digite seu sobre nome:Buss Fantecelle\n",
            "Seu nome é João Vitor Buss Fantecelle\n"
          ]
        }
      ]
    },
    {
      "cell_type": "code",
      "source": [
        "palavra = input('digite uma palavra aleatória: ')\n",
        "número = int(input('digite um número aleatório: '))\n",
        "print((palavra+ '\\n') * número)"
      ],
      "metadata": {
        "colab": {
          "base_uri": "https://localhost:8080/"
        },
        "id": "OtU-nU18SRPS",
        "outputId": "b5542a0b-dcc2-408f-e36d-a1d87e8e8569"
      },
      "execution_count": 9,
      "outputs": [
        {
          "output_type": "stream",
          "name": "stdout",
          "text": [
            "digite uma palavra aleatória: um\n",
            "digite um número aleatório: 3\n",
            "um\n",
            "um\n",
            "um\n",
            "\n"
          ]
        }
      ]
    },
    {
      "cell_type": "code",
      "source": [
        "texto = input('digite um texto')\n",
        "print(texto.upper())"
      ],
      "metadata": {
        "colab": {
          "base_uri": "https://localhost:8080/"
        },
        "id": "FZlzhoRmVpIt",
        "outputId": "4aa85f64-2eb7-437f-956f-51e21ad05575"
      },
      "execution_count": 10,
      "outputs": [
        {
          "output_type": "stream",
          "name": "stdout",
          "text": [
            "digite um textovou jogar bola\n",
            "VOU JOGAR BOLA\n"
          ]
        }
      ]
    },
    {
      "cell_type": "code",
      "source": [
        "palavra = input('digite uma palavra:')\n",
        "print(len(palavra))"
      ],
      "metadata": {
        "colab": {
          "base_uri": "https://localhost:8080/"
        },
        "id": "K38peQwFXwb0",
        "outputId": "c6a9083f-50a5-4117-ae53-a11e93e0c14e"
      },
      "execution_count": 13,
      "outputs": [
        {
          "output_type": "stream",
          "name": "stdout",
          "text": [
            "digite uma palavra:sala\n",
            "4\n"
          ]
        }
      ]
    },
    {
      "cell_type": "code",
      "source": [
        "from datetime import datetime\n",
        "import pytz\n",
        "fuso_horario = pytz.timezone(\"America/Sao_Paulo\")\n",
        "data_hora_atual = datetime.now(fuso_horario)\n",
        "print(\"Data e Hora Atual:\", data_hora_atual)"
      ],
      "metadata": {
        "colab": {
          "base_uri": "https://localhost:8080/"
        },
        "id": "zxNZmfZIZGMz",
        "outputId": "7acd238b-1404-499d-dc26-c79f6fbd7812"
      },
      "execution_count": 22,
      "outputs": [
        {
          "output_type": "stream",
          "name": "stdout",
          "text": [
            "Data e Hora Atual: 2025-03-13 13:54:54.546391-03:00\n"
          ]
        }
      ]
    },
    {
      "cell_type": "code",
      "source": [
        "from datetime import datetime\n",
        "data_nasc = input('Quando você nasceu? (DD/MM/YYYY)')\n",
        "data_conv= datetime.strptime(data_nasc, '%d/%m/%Y')\n",
        "hoje = datetime.now()\n",
        "idade = (hoje - data_conv).days //365\n",
        "print(f\"Você tem {idade} anos\")\n"
      ],
      "metadata": {
        "colab": {
          "base_uri": "https://localhost:8080/"
        },
        "id": "snXfoA0dbjoj",
        "outputId": "e602043f-9fef-400b-f55f-b9a55ff54754"
      },
      "execution_count": 23,
      "outputs": [
        {
          "output_type": "stream",
          "name": "stdout",
          "text": [
            "Quando você nasceu? (DD/MM/YYYY)16/08/2001\n",
            "Você tem 23 anos\n"
          ]
        }
      ]
    },
    {
      "cell_type": "code",
      "source": [
        "num1 = float(input('digite um numero: '))\n",
        "num2 = float(input('digite um numero: '))\n",
        "num3 = float(input('digite um numero: '))\n",
        "resultado = (num1+num2+num3) / 3\n",
        "print(resultado)"
      ],
      "metadata": {
        "colab": {
          "base_uri": "https://localhost:8080/"
        },
        "id": "9EKJMkX3b15R",
        "outputId": "7fa1b525-b67a-4b72-fa4f-856c1cd22b82"
      },
      "execution_count": 24,
      "outputs": [
        {
          "output_type": "stream",
          "name": "stdout",
          "text": [
            "digite um numero: 1\n",
            "digite um numero: 2\n",
            "digite um numero: 3\n",
            "2.0\n"
          ]
        }
      ]
    },
    {
      "cell_type": "code",
      "source": [
        "from datetime import datetime\n",
        "data_nasc = input('Quando você nasceu? (DD/MM/YYYY)')\n",
        "data_conv= datetime.strptime(data_nasc, '%d/%m/%Y')\n",
        "hoje = datetime.now()\n",
        "dias = (hoje - data_conv).days\n",
        "print(f\"Você tem {dias} dias\")"
      ],
      "metadata": {
        "colab": {
          "base_uri": "https://localhost:8080/"
        },
        "id": "39IJp_dTdiMa",
        "outputId": "80a9fe13-02ac-441c-d16f-6d0c542ecac7"
      },
      "execution_count": 25,
      "outputs": [
        {
          "output_type": "stream",
          "name": "stdout",
          "text": [
            "Quando você nasceu? (DD/MM/YYYY)16/08/2001\n",
            "Você tem 8610 dias\n"
          ]
        }
      ]
    },
    {
      "cell_type": "code",
      "source": [
        "from datetime import datetime, date, time, timedelta\n",
        "import pytz\n",
        "data = input('informe uma data pelo ano, mes e dia (YYYY/MM/DD)')\n",
        "data_conv= datetime.strptime(data, '%Y/%m/%d')\n",
        "print(data_conv)"
      ],
      "metadata": {
        "colab": {
          "base_uri": "https://localhost:8080/"
        },
        "id": "maeorqqyebku",
        "outputId": "20312016-5344-49bf-9e86-41ad5a09e8cf"
      },
      "execution_count": 51,
      "outputs": [
        {
          "output_type": "stream",
          "name": "stdout",
          "text": [
            "informe uma data pelo ano, mes e dia (YYYY/MM/DD)2025/03/13\n",
            "2025-03-13 00:00:00\n"
          ]
        }
      ]
    }
  ]
}