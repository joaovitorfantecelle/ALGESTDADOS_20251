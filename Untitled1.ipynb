{
  "nbformat": 4,
  "nbformat_minor": 0,
  "metadata": {
    "colab": {
      "provenance": [],
      "authorship_tag": "ABX9TyNjhqA6dFDfc6fbDv2RdIsh",
      "include_colab_link": true
    },
    "kernelspec": {
      "name": "python3",
      "display_name": "Python 3"
    },
    "language_info": {
      "name": "python"
    }
  },
  "cells": [
    {
      "cell_type": "markdown",
      "metadata": {
        "id": "view-in-github",
        "colab_type": "text"
      },
      "source": [
        "<a href=\"https://colab.research.google.com/github/joaovitorfantecelle/ALGESTDADOS_20251/blob/main/Untitled1.ipynb\" target=\"_parent\"><img src=\"https://colab.research.google.com/assets/colab-badge.svg\" alt=\"Open In Colab\"/></a>"
      ]
    },
    {
      "cell_type": "code",
      "execution_count": 5,
      "metadata": {
        "colab": {
          "base_uri": "https://localhost:8080/"
        },
        "id": "RPwt-ERS6S0C",
        "outputId": "fa7554a2-5eae-410a-b3b1-2b182c5be48f"
      },
      "outputs": [
        {
          "output_type": "stream",
          "name": "stdout",
          "text": [
            "1\n",
            "2\n",
            "3\n",
            "4\n",
            "5\n",
            "6\n",
            "7\n",
            "8\n",
            "9\n",
            "10\n"
          ]
        }
      ],
      "source": [
        "i =  1\n",
        "while i <= 10:\n",
        "  print(i)\n",
        "  i+= 1"
      ]
    },
    {
      "cell_type": "code",
      "source": [
        "#Escreva um programa que imprima os números de 1 a 10 utilizando um loop for com range().\n",
        "for i in range(1,11):\n",
        "  print(i)"
      ],
      "metadata": {
        "colab": {
          "base_uri": "https://localhost:8080/"
        },
        "id": "DAnvWRq27hnp",
        "outputId": "491c0bd1-605e-41b2-8f81-cc96715aceea"
      },
      "execution_count": 7,
      "outputs": [
        {
          "output_type": "stream",
          "name": "stdout",
          "text": [
            "1\n",
            "2\n",
            "3\n",
            "4\n",
            "5\n",
            "6\n",
            "7\n",
            "8\n",
            "9\n",
            "10\n"
          ]
        }
      ]
    },
    {
      "cell_type": "code",
      "source": [
        "#Crie um loop for que percorra uma lista de frutas e imprima cada uma delas.\n",
        "lista = ['pera','maca','kiwi','banana']\n",
        "for i in range(len(lista)):\n",
        "    print(lista[i])\n"
      ],
      "metadata": {
        "colab": {
          "base_uri": "https://localhost:8080/"
        },
        "id": "aa_yfD7C7z9o",
        "outputId": "90293050-0a12-468d-ed06-6e7945974dce"
      },
      "execution_count": 54,
      "outputs": [
        {
          "output_type": "stream",
          "name": "stdout",
          "text": [
            "pera\n",
            "maca\n",
            "kiwi\n",
            "banana\n"
          ]
        }
      ]
    },
    {
      "cell_type": "code",
      "source": [
        "#Utilize um while para imprimir os números pares de 0 a 20\n",
        "numero = 0\n",
        "while numero <= 20:\n",
        "  if numero % 2 == 0:\n",
        "    print(numero)\n",
        "  numero += 1"
      ],
      "metadata": {
        "colab": {
          "base_uri": "https://localhost:8080/"
        },
        "id": "qbhhxKk6ARU7",
        "outputId": "1ee68dde-f367-4690-9294-6a3a01716aa4"
      },
      "execution_count": 59,
      "outputs": [
        {
          "output_type": "stream",
          "name": "stdout",
          "text": [
            "0\n",
            "2\n",
            "4\n",
            "6\n",
            "8\n",
            "10\n",
            "12\n",
            "14\n",
            "16\n",
            "18\n",
            "20\n"
          ]
        }
      ]
    },
    {
      "cell_type": "code",
      "source": [
        "#Crie um loop for que utilize enumerate() para exibir os índices e valores de uma lista de nomes.\n",
        "lista = [\"joao\", \"murilo\", \"samurex\"]\n",
        "for indice, valor in enumerate(lista):\n",
        "    print(f\"{indice} {valor}\")\n",
        "\n"
      ],
      "metadata": {
        "colab": {
          "base_uri": "https://localhost:8080/"
        },
        "id": "DQ4De6WDBXkU",
        "outputId": "24913a7a-d7f7-4e61-9dab-57b64cb745d3"
      },
      "execution_count": 61,
      "outputs": [
        {
          "output_type": "stream",
          "name": "stdout",
          "text": [
            "0 joao\n",
            "1 murilo\n",
            "2 samurex\n"
          ]
        }
      ]
    },
    {
      "cell_type": "code",
      "source": [
        "#Escreva um programa que peça um número ao usuário e continue pedindo até que o usuário digite um número positivo.\n",
        "num = 0\n",
        "while True:\n",
        " num = int(input('Digite um numéro: '))\n",
        " if num >= 0:\n",
        "  break"
      ],
      "metadata": {
        "colab": {
          "base_uri": "https://localhost:8080/"
        },
        "id": "pk9InizmGOZE",
        "outputId": "beb7a1f8-093f-4a37-ec30-819bf5623137"
      },
      "execution_count": 8,
      "outputs": [
        {
          "name": "stdout",
          "output_type": "stream",
          "text": [
            "Digite um numéro: 10\n"
          ]
        }
      ]
    },
    {
      "cell_type": "code",
      "source": [
        "#Escreva um loop for que conte de 10 até 0 e, ao final, imprima \"Fim!\".\n",
        "for i in range(10,-1,-1):\n",
        "  print(i)\n",
        "print(f'fim!')"
      ],
      "metadata": {
        "colab": {
          "base_uri": "https://localhost:8080/"
        },
        "id": "D-hMcrXVMkCI",
        "outputId": "540e32d1-0e22-43b6-ed2b-97ed8de66f8f"
      },
      "execution_count": 9,
      "outputs": [
        {
          "output_type": "stream",
          "name": "stdout",
          "text": [
            "10\n",
            "9\n",
            "8\n",
            "7\n",
            "6\n",
            "5\n",
            "4\n",
            "3\n",
            "2\n",
            "1\n",
            "0\n",
            "fim!\n"
          ]
        }
      ]
    },
    {
      "cell_type": "code",
      "source": [
        "#Escreva um programa que use um while para calcular a soma dos números de 1 a 100.\n",
        "n = 1\n",
        "soma = 0\n",
        "while n <= 100:\n",
        "  soma += n\n",
        "  n += 1\n",
        "print(soma)"
      ],
      "metadata": {
        "colab": {
          "base_uri": "https://localhost:8080/"
        },
        "id": "DzvWkRcnNLTp",
        "outputId": "64b1922b-f143-4faa-fed9-445b4964a3ee"
      },
      "execution_count": 10,
      "outputs": [
        {
          "output_type": "stream",
          "name": "stdout",
          "text": [
            "5050\n"
          ]
        }
      ]
    },
    {
      "cell_type": "code",
      "source": [
        "#Modifique o exercício anterior para parar a soma se o total ultrapassar 1000, usando break.\n",
        "n = 1\n",
        "soma = 0\n",
        "while n <= 100:\n",
        "  if soma > 1000:\n",
        "    break\n",
        "  soma += n\n",
        "  n += 1\n",
        "print(soma)"
      ],
      "metadata": {
        "colab": {
          "base_uri": "https://localhost:8080/"
        },
        "id": "g3cLUR-QNh0i",
        "outputId": "c607dd08-3e0b-45fb-dc3d-2c3f652c428c"
      },
      "execution_count": 11,
      "outputs": [
        {
          "output_type": "stream",
          "name": "stdout",
          "text": [
            "1035\n"
          ]
        }
      ]
    },
    {
      "cell_type": "code",
      "source": [
        "#Crie um programa que peça ao usuário para digitar palavras e as adicione a uma lista até que ele digite \"sair\".\n",
        "palavra = ''\n",
        "lista = []\n",
        "while palavra.upper()!='SAIR':\n",
        "  palvra=input('Digita aí!: ')\n",
        "  if palavra.upper() != 'SAIR':\n",
        "   lista.append(palavra)\n",
        "print(lista)\n"
      ],
      "metadata": {
        "colab": {
          "base_uri": "https://localhost:8080/"
        },
        "id": "-_FdeAdjNxCz",
        "outputId": "f70f3def-80a7-4b4b-bb69-42ad5eb339e2"
      },
      "execution_count": null,
      "outputs": [
        {
          "name": "stdout",
          "output_type": "stream",
          "text": [
            "Digita aí!: sair\n",
            "Digita aí!: SAIR\n"
          ]
        }
      ]
    }
  ]
}