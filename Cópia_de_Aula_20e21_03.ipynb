{
  "nbformat": 4,
  "nbformat_minor": 0,
  "metadata": {
    "colab": {
      "provenance": [],
      "authorship_tag": "ABX9TyNtgMFotZpdEopmon3qdsVZ",
      "include_colab_link": true
    },
    "kernelspec": {
      "name": "python3",
      "display_name": "Python 3"
    },
    "language_info": {
      "name": "python"
    }
  },
  "cells": [
    {
      "cell_type": "markdown",
      "metadata": {
        "id": "view-in-github",
        "colab_type": "text"
      },
      "source": [
        "<a href=\"https://colab.research.google.com/github/joaovitorfantecelle/ALGESTDADOS_20251/blob/main/C%C3%B3pia_de_Aula_20e21_03.ipynb\" target=\"_parent\"><img src=\"https://colab.research.google.com/assets/colab-badge.svg\" alt=\"Open In Colab\"/></a>"
      ]
    },
    {
      "cell_type": "code",
      "execution_count": null,
      "metadata": {
        "colab": {
          "base_uri": "https://localhost:8080/"
        },
        "id": "erBAYcBvSiAi",
        "outputId": "f01ef007-3f7f-42b5-9d28-1e4eabe32e29"
      },
      "outputs": [
        {
          "output_type": "stream",
          "name": "stdout",
          "text": [
            "Digite um número: 8\n",
            "8 é menor que 10.\n"
          ]
        }
      ],
      "source": [
        "num = int(input('Digite um número: '))\n",
        "if num > 10:\n",
        "  print(f'{num} é maior que 10.')\n",
        "else:\n",
        "  print(f'{num} é menor que 10.')"
      ]
    },
    {
      "cell_type": "code",
      "source": [
        "num = int(input('digite um número: '))\n",
        "if num%2==0:\n",
        "  print(f'{num} é par.')\n",
        "else:\n",
        "  print(f'{num} não é par.')\n",
        "\n"
      ],
      "metadata": {
        "colab": {
          "base_uri": "https://localhost:8080/"
        },
        "id": "-S5AKVrlYJXx",
        "outputId": "2c7b28b4-a837-4c1e-ad08-5d92549198d0"
      },
      "execution_count": null,
      "outputs": [
        {
          "output_type": "stream",
          "name": "stdout",
          "text": [
            "digite um número: 5\n",
            "5 não é par.\n"
          ]
        }
      ]
    },
    {
      "cell_type": "code",
      "source": [
        "nome = input('Digite seu nome: ')\n",
        "if 'a' in nome:\n",
        "  print(f'{nome} tem a letra A.')\n",
        "else:\n",
        "  print(f'{nome} não tem a letra A')"
      ],
      "metadata": {
        "colab": {
          "base_uri": "https://localhost:8080/"
        },
        "id": "vbY5y2POaMrt",
        "outputId": "41274ae0-5326-445c-c203-d030466462ea"
      },
      "execution_count": null,
      "outputs": [
        {
          "output_type": "stream",
          "name": "stdout",
          "text": [
            "Digite seu nome: Pedro\n",
            "Pedro não tem a letra A\n"
          ]
        }
      ]
    },
    {
      "cell_type": "code",
      "source": [
        "num = int(input('Digite um número: '))\n",
        "if num%5==0:\n",
        "  print(f'{num} é multiplo de 5.')\n",
        "else:\n",
        "  print(f'{num} não é multiplo de 5.')\n"
      ],
      "metadata": {
        "colab": {
          "base_uri": "https://localhost:8080/"
        },
        "id": "kAw-RKPiby08",
        "outputId": "eade5582-47c3-4968-a5b7-d07ed18a2ab5"
      },
      "execution_count": null,
      "outputs": [
        {
          "output_type": "stream",
          "name": "stdout",
          "text": [
            "Digite um número: 30\n",
            "30 é multiplo de 5.\n"
          ]
        }
      ]
    },
    {
      "cell_type": "code",
      "source": [
        "temperatura = float(input('Digite a temperatura: '))\n",
        "if temperatura > 30:\n",
        "  print(f'Com {temperatura}° está quente.')\n",
        "else:\n",
        "  print(f'Com {temperatura}° está frio.')"
      ],
      "metadata": {
        "colab": {
          "base_uri": "https://localhost:8080/"
        },
        "id": "aXhpt8U3cqcj",
        "outputId": "9abfbad0-3fc4-4d65-ac3e-2a287003b31d"
      },
      "execution_count": null,
      "outputs": [
        {
          "output_type": "stream",
          "name": "stdout",
          "text": [
            "Digite a temperatura: 30\n",
            "Com 30° está frio.\n"
          ]
        }
      ]
    },
    {
      "cell_type": "code",
      "source": [
        "letra = input('Deseja continuar a ação? Digite S para continuar ou digite N cancelar: ')\n",
        "letra = letra.upper()\n",
        "if 'S' in letra:\n",
        "  print('Continuando ação')\n",
        "elif 'N' in letra:\n",
        "  print('Cancelar ação')\n",
        "else:\n",
        "  print('Letra incorreta')\n"
      ],
      "metadata": {
        "colab": {
          "base_uri": "https://localhost:8080/"
        },
        "id": "8cwhfOHPeG6w",
        "outputId": "5b29642e-a14d-4d4f-bbf4-1aa1af9bc137"
      },
      "execution_count": null,
      "outputs": [
        {
          "output_type": "stream",
          "name": "stdout",
          "text": [
            "Deseja continuar a ação? Digite S para continuar ou digite N cancelar: s\n",
            "Continuando ação\n"
          ]
        }
      ]
    },
    {
      "cell_type": "code",
      "source": [
        "num = int(input('Digite um número: '))\n",
        "if num > 0 :\n",
        "  print(f'O número {num} é positivo')\n",
        "elif num == 0 :\n",
        "  print(f'O número {num} é zero')\n",
        "else:\n",
        "  print(f'O número {num} é negativo')"
      ],
      "metadata": {
        "colab": {
          "base_uri": "https://localhost:8080/"
        },
        "id": "a2V3o761hmNn",
        "outputId": "46a8f97d-9047-4fb2-976e-b4d87d080ab5"
      },
      "execution_count": null,
      "outputs": [
        {
          "output_type": "stream",
          "name": "stdout",
          "text": [
            "Digite um número: -5\n",
            "O número -5 é negativo\n"
          ]
        }
      ]
    },
    {
      "cell_type": "code",
      "source": [
        "num = int(input('Digite um número de 1 a 7: '))\n",
        "if num == 1:\n",
        "  print(f'Hoje é domingo')\n",
        "elif num == 2:\n",
        "  print(f'Hoje é segunda-feira')\n",
        "elif num == 3:\n",
        " print(f'Hoje é terça-feira')\n",
        "elif num == 4:\n",
        "  print(f'Hoje é quarta-feira')\n",
        "elif num == 5:\n",
        "  print(f'Hoje é quinta-feira')\n",
        "elif num == 6:\n",
        "  print(f'Hoje é sexta-feira')\n",
        "elif num == 7:\n",
        "  print(f'Hoje é sábado')\n",
        "else:\n",
        "  print(f'Número inválido')\n"
      ],
      "metadata": {
        "colab": {
          "base_uri": "https://localhost:8080/"
        },
        "id": "9p5w2D4ji5at",
        "outputId": "676e6dea-7fb1-4663-f50d-058b4aa5f7c3"
      },
      "execution_count": null,
      "outputs": [
        {
          "output_type": "stream",
          "name": "stdout",
          "text": [
            "Digite um número de 1 a 7: 8\n",
            "Número inválido\n"
          ]
        }
      ]
    },
    {
      "cell_type": "code",
      "source": [
        "num = int(input('Digite um ano: '))\n",
        "if num%400 == 0:\n",
        "  print(f'O ano é bissexto.')\n",
        "elif num%100 == 0:\n",
        "  print(f'O ano não é bissexto')\n",
        "elif num%4 == 0:\n",
        "  print(f'O ano é bissexto')\n",
        "else:\n",
        "  print(f'O não é bissexto')"
      ],
      "metadata": {
        "colab": {
          "base_uri": "https://localhost:8080/"
        },
        "id": "hDURYoSdmaE2",
        "outputId": "4dabbaa5-fec3-48bc-db07-27d0cb8b3716"
      },
      "execution_count": 13,
      "outputs": [
        {
          "output_type": "stream",
          "name": "stdout",
          "text": [
            "Digite um ano: 2024\n",
            "O ano é bissexto\n"
          ]
        }
      ]
    },
    {
      "cell_type": "code",
      "source": [
        "ano = int(input('Digite um ano: '))\n",
        "if(ano%4 == 0 and ano%100!=0) or ano%400 == 0:\n",
        "  print(f'O ano é bissexto.')\n",
        "else:\n",
        "  print(f'O ano não é bissexto. ')\n",
        "\n"
      ],
      "metadata": {
        "colab": {
          "base_uri": "https://localhost:8080/"
        },
        "id": "zwA2mY-OA_vS",
        "outputId": "45ff0fb8-a106-4d72-a31a-2173c59f1cb1"
      },
      "execution_count": 44,
      "outputs": [
        {
          "output_type": "stream",
          "name": "stdout",
          "text": [
            "Digite um ano: 6\n",
            "O ano não é bissexto. \n"
          ]
        }
      ]
    },
    {
      "cell_type": "code",
      "source": [
        "ht = float(input('Digite as horas trabalhas: '))\n",
        "vh = float(input('Digite o valor da hora de trabalho: '))\n",
        "salario = ht * vh\n",
        "if ht <= 40:\n",
        "  print(f'Seu salário é {salario}.')\n",
        "else:\n",
        "  sobra = ht - 40\n",
        "  hora_extra = (vh*1.5) * sobra\n",
        "  print(f'Seu salário é {salario + hora_extra}.')\n"
      ],
      "metadata": {
        "colab": {
          "base_uri": "https://localhost:8080/"
        },
        "id": "gzqZhotm525F",
        "outputId": "2ecb1e09-9d9d-46d5-c95b-bd26e840dbd9"
      },
      "execution_count": 42,
      "outputs": [
        {
          "output_type": "stream",
          "name": "stdout",
          "text": [
            "Digite as horas trabalhas: 50\n",
            "Digite o valor da hora de trabalho: 10\n",
            "Seu salário é 650.0.\n"
          ]
        }
      ]
    }
  ]
}