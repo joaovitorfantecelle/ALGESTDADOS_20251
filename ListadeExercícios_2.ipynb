{
  "nbformat": 4,
  "nbformat_minor": 0,
  "metadata": {
    "colab": {
      "provenance": [],
      "include_colab_link": true
    },
    "kernelspec": {
      "name": "python3",
      "display_name": "Python 3"
    },
    "language_info": {
      "name": "python"
    }
  },
  "cells": [
    {
      "cell_type": "markdown",
      "metadata": {
        "id": "view-in-github",
        "colab_type": "text"
      },
      "source": [
        "<a href=\"https://colab.research.google.com/github/joaovitorfantecelle/ALGESTDADOS_20251/blob/main/ListadeExerc%C3%ADcios_2.ipynb\" target=\"_parent\"><img src=\"https://colab.research.google.com/assets/colab-badge.svg\" alt=\"Open In Colab\"/></a>"
      ]
    },
    {
      "cell_type": "markdown",
      "source": [
        "Lista de Exercicios 2:\n",
        "Victor Gabriel; João Vitor."
      ],
      "metadata": {
        "id": "OGkwD8vjsl22"
      }
    },
    {
      "cell_type": "code",
      "execution_count": null,
      "metadata": {
        "id": "OLJmi7q0sS8T",
        "colab": {
          "base_uri": "https://localhost:8080/"
        },
        "outputId": "42467b00-a8c4-4be2-c9ba-ed2463a27d60"
      },
      "outputs": [
        {
          "output_type": "stream",
          "name": "stdout",
          "text": [
            "hora entrada: 5\n",
            "minuto entrada: 30\n",
            "hora saida: 21\n",
            "minuto saida: 59\n",
            "trabalhou 15 h 29 min\n",
            "Jornada de 8h cumprida \n"
          ]
        }
      ],
      "source": [
        "#1\n",
        "eh = int(input(\"hora entrada: \"))\n",
        "em = int(input(\"minuto entrada: \"))\n",
        "sh = int(input(\"hora saida: \"))\n",
        "sm = int(input(\"minuto saida: \"))\n",
        "entrada = eh * 60 + em\n",
        "saida = sh * 60 + sm\n",
        "total = saida - entrada - 60\n",
        "if total < 0:\n",
        "    print(\"horario não valido\")\n",
        "else:\n",
        "    h = total // 60\n",
        "    m = total % 60\n",
        "    print(\"trabalhou\", h, \"h\", m, \"min\")\n",
        "    if total >= 480:\n",
        "        print(\"Jornada de 8h cumprida \")\n",
        "    else:\n",
        "        print(\"Jornada de 8h nao cumprida \")\n"
      ]
    },
    {
      "cell_type": "code",
      "source": [
        "#2\n",
        "nd = int(input(\"dia nascimento: \"))\n",
        "nm = int(input(\"mes nascimento: \"))\n",
        "na = int(input(\"ano nascimento: \"))\n",
        "ad = int(input(\"dia atual: \"))\n",
        "am = int(input(\"mes atual: \"))\n",
        "aa = int(input(\"ano atual: \"))\n",
        "anos = aa - na\n",
        "meses = am - nm\n",
        "dias = ad - nd\n",
        "if dias < 0:\n",
        "    meses = meses - 1\n",
        "    dias = dias + 30\n",
        "if meses < 0:\n",
        "    anos = anos - 1\n",
        "    meses = meses + 12\n",
        "print(\"Idade:\", anos, \"anos,\", meses, \"meses e\", dias, \"dias.\")\n"
      ],
      "metadata": {
        "id": "JjeHCcpVs0PN",
        "colab": {
          "base_uri": "https://localhost:8080/"
        },
        "outputId": "f1b7541a-dd4f-404e-f2cd-bebc98d10129"
      },
      "execution_count": null,
      "outputs": [
        {
          "output_type": "stream",
          "name": "stdout",
          "text": [
            "dia nascimento: 07\n",
            "mes nascimento: 10\n",
            "ano nascimento: 2006\n",
            "dia atual: 08\n",
            "mes atual: 05\n",
            "ano atual: 2025\n",
            "Idade: 18 anos, 7 meses e 1 dias.\n"
          ]
        }
      ]
    },
    {
      "cell_type": "code",
      "source": [
        "#3\n",
        "s = 0\n",
        "i = 1\n",
        "while i <= 3:\n",
        "    v = float(input(\"d1igite o índice de poluentes #\" + str(i) + \": \"))\n",
        "    s = s + v\n",
        "    i = i + 1\n",
        "media = s / 3\n",
        "print(\"media dos indices:\", media)\n",
        "if media <= 50:\n",
        "    print(\"qualidade do ar BOM\")\n",
        "elif media <= 100:\n",
        "    print(\"qualidade do ar MODERADO\")\n",
        "elif media <= 150:\n",
        "    print(\"qualidade do ar RUIM\")\n",
        "elif media <= 200:\n",
        "    print(\"qualidade do ar MUITO RUIM\")\n",
        "else:\n",
        "    print(\"qualidade do ar PESSIMO\")\n"
      ],
      "metadata": {
        "id": "5-hjHBazs1XN",
        "colab": {
          "base_uri": "https://localhost:8080/"
        },
        "outputId": "f1365421-c9bd-4e0c-a2f2-af159f463ff7"
      },
      "execution_count": null,
      "outputs": [
        {
          "output_type": "stream",
          "name": "stdout",
          "text": [
            "digite o índice de poluentes #1: 33\n",
            "digite o índice de poluentes #2: 77\n",
            "digite o índice de poluentes #3: 1\n",
            "media dos indices: 37.0\n",
            "qualidade do ar BOM\n"
          ]
        }
      ]
    },
    {
      "cell_type": "code",
      "source": [
        "#4\n",
        "r = \"s\"\n",
        "while r == \"s\":\n",
        "    v = float(input(\"valor abastecido\"))\n",
        "    p = float(input(\"preco por litro: \"))\n",
        "    ki = float(input(\"km inicial: \"))\n",
        "    kf = float(input(\"km final: \"))\n",
        "    l = v / p\n",
        "    d = kf - ki\n",
        "    if d <= 0 or l <= 0:\n",
        "        print(\"erro.\")\n",
        "    else:\n",
        "        m = d / l\n",
        "        print(\"litros\", round(l,2), \"km:\", round(d,2), \"media\", round(m,2), \"km/l\")\n",
        "        if m > 12:\n",
        "            print(\"desempenho bom\")\n",
        "        elif m >= 8:\n",
        "            print(\"desempenho medio\")\n",
        "        else:\n",
        "            print(\"desempenho ruim\")\n",
        "        r = input(\"outro? (s/n): \")"
      ],
      "metadata": {
        "id": "2m_DxBPSs3R1",
        "colab": {
          "base_uri": "https://localhost:8080/"
        },
        "outputId": "6550e581-4a5e-40d8-d16c-6ff5b8fe4b30"
      },
      "execution_count": null,
      "outputs": [
        {
          "name": "stdout",
          "output_type": "stream",
          "text": [
            "valor abastecido90\n",
            "preco por litro: 7\n",
            "km inicial: 0\n",
            "km final: 100\n",
            "litros 12.86 km: 100.0 media 7.78 km/l\n",
            "desempenho ruim\n",
            "outro? (s/n): n\n"
          ]
        }
      ]
    },
    {
      "cell_type": "code",
      "source": [
        "#5\n",
        "n = input('qual o seu nome? ')\n",
        "d1 = int(input('quanto tempo de academia no dia 1?'))\n",
        "d2 = int(input('quanto tempo de academia no dia 2?'))\n",
        "d3 = int(input('quanto tempo de academia no dia 3?'))\n",
        "d4 = int(input('quanto tempo de academia no dia 4?'))\n",
        "d5 = int(input('quanto tempo de academia no dia 5?'))\n",
        "d6 = int(input('quanto tempo de academia no dia 6?'))\n",
        "d7 = int(input('quanto tempo de academia no dia 7?'))\n",
        "print (f\"{n}\")\n",
        "md = (d1+d2+d3+d4+d5+d6+d7)/7\n",
        "smt= d1+d2+d3+d4+d5+d6+d7\n",
        "if smt >= 150:\n",
        "  print('Treinou o recomendado')\n",
        "else:\n",
        "  print(\"não treinou o recomendado\")\n",
        "print(f\"a media na semanda foi {md}\")\n",
        "print(f\"o total treinado foi {smt}\")"
      ],
      "metadata": {
        "colab": {
          "base_uri": "https://localhost:8080/"
        },
        "id": "k9W4ElK5pysh",
        "outputId": "3e68da19-9ca4-469e-a7fd-db85595a2882"
      },
      "execution_count": null,
      "outputs": [
        {
          "output_type": "stream",
          "name": "stdout",
          "text": [
            "qual o seu nome? Victor\n",
            "quanto tempo de academia no dia 1?60\n",
            "quanto tempo de academia no dia 2?60\n",
            "quanto tempo de academia no dia 3?60\n",
            "quanto tempo de academia no dia 4?60\n",
            "quanto tempo de academia no dia 5?20\n",
            "quanto tempo de academia no dia 6?0\n",
            "quanto tempo de academia no dia 7?0\n",
            "Victor\n",
            "Treinou o recomendado\n",
            "a media na semanda foi 37.142857142857146\n",
            "o total treinado foi 260\n"
          ]
        }
      ]
    },
    {
      "cell_type": "code",
      "source": [
        "#6\n",
        "i = float(input(\"valor do hidrometro no início do mes: \"))\n",
        "f = float(input(\"valor do hidrometro no fim do mes: \"))\n",
        "c = f - i\n",
        "if c < 0:\n",
        "  print(\"Erro. Nada foi gasto\")\n",
        "else:\n",
        "  if c <= 10:\n",
        "    v = c * 5\n",
        "  elif c <= 20:\n",
        "    v = 10 * 5 + (c - 10) * 7\n",
        "  else:\n",
        "    v = 10 * 5 + 10 * 7 + (c - 20) * 10\n",
        "print(f\"consumo: {c} \")\n",
        "print(f\"valor a pagar: {v:.2f}\")"
      ],
      "metadata": {
        "id": "QNkaz57ps4TN",
        "colab": {
          "base_uri": "https://localhost:8080/"
        },
        "outputId": "01a27d53-1ba0-4e5a-d307-4d18d2eb51ed"
      },
      "execution_count": null,
      "outputs": [
        {
          "output_type": "stream",
          "name": "stdout",
          "text": [
            "valor do hidrometro no início do mes: 100\n",
            "valor do hidrometro no fim do mes: 120\n",
            "consumo: 20.0 \n",
            "valor a pagar: 120.00\n"
          ]
        }
      ]
    },
    {
      "cell_type": "code",
      "source": [
        "#7\n",
        "r = \"s\"\n",
        "while r == \"s\":\n",
        "    hp, mp = map(int, input(\"digite a hora prevista de chegada (hh:mm): \").split(\":\"))\n",
        "    hr, mr = map(int, input(\"digite a hora real de chegada (hh:mm): \").split(\":\"))\n",
        "    p = hp * 60 + mp\n",
        "    r = hr * 60 + mr\n",
        "    d = r - p\n",
        "    if d == 0:\n",
        "        print(\"voo pontual.\")\n",
        "    elif -5 <= d <= 5:\n",
        "        print(f\"voo pontual (diferença de {d} min).\")\n",
        "    elif -30 <= d < -5 or 5 < d <= 30:\n",
        "        print(f\"voo ligeiramente {'adiantado' if d < 0 else 'atrasado'} (diferença de {abs(d)} min).\")\n",
        "    else:\n",
        "        print(f\"voo muito {'adiantado' if d < 0 else 'atrasado'} (diferença de {abs(d)} min).\")"
      ],
      "metadata": {
        "id": "lC6MQXies5c1",
        "colab": {
          "base_uri": "https://localhost:8080/"
        },
        "outputId": "ff146326-884f-454c-e511-1828a291815f"
      },
      "execution_count": null,
      "outputs": [
        {
          "output_type": "stream",
          "name": "stdout",
          "text": [
            "digite a hora prevista de chegada (hh:mm): 20:30\n",
            "digite a hora real de chegada (hh:mm): 21:00\n",
            "voo ligeiramente atrasado (diferença de 30 min).\n"
          ]
        }
      ]
    },
    {
      "cell_type": "code",
      "source": [
        "#8\n",
        "r=\"s\"\n",
        "while r==\"s\":\n",
        " ttv=tcel=tcom=0\n",
        " for d in[\"tv\",\"celular\",\"computador\"]:\n",
        "  for i in range(3):\n",
        "   h,m=map(int,input(f\"{d} dia {i+1} (hh:mm): \").split(\":\"))\n",
        "   if d==\"tv\":ttv+=h*60+m\n",
        "   elif d==\"celular\":tcel+=h*60+m\n",
        "   else:tcom+=h*60+m\n",
        " total=ttv+tcel+tcom\n",
        " h=total//60\n",
        " m=total%60\n",
        " maior=max([(\"tv\",ttv),(\"celular\",tcel),(\"computador\",tcom)],key=lambda x:x[1])\n",
        " print(f\"\\ntempo total: {h}h {m}min\")\n",
        " print(f\"maior uso: {maior[0]}\")\n",
        " if h>=10:print(\"alerta: uso passou de 10h por dia\")\n",
        " r=input(\"repetir? (s/n): \")"
      ],
      "metadata": {
        "id": "IfR0Ivbcs6sV",
        "colab": {
          "base_uri": "https://localhost:8080/"
        },
        "outputId": "5ac11d47-d677-446a-fb9e-f36be5831c85"
      },
      "execution_count": null,
      "outputs": [
        {
          "name": "stdout",
          "output_type": "stream",
          "text": [
            "tv dia 1 (hh:mm): 00:00\n",
            "tv dia 2 (hh:mm): 00:00\n",
            "tv dia 3 (hh:mm): 00:10\n",
            "celular dia 1 (hh:mm): 00:00\n",
            "celular dia 2 (hh:mm): 00:00\n",
            "celular dia 3 (hh:mm): 00:00\n",
            "computador dia 1 (hh:mm): 00:00\n",
            "computador dia 2 (hh:mm): 00:00\n",
            "computador dia 3 (hh:mm): 00:00\n",
            "\n",
            "tempo total: 0h 10min\n",
            "maior uso: tv\n",
            "repetir? (s/n): n\n"
          ]
        }
      ]
    },
    {
      "cell_type": "code",
      "source": [
        "#9\n",
        "a=float(input(\"area em m2: \"))\n",
        "t=input(\"tipo (cenoura, alface, couve): \")\n",
        "rdm=float(input(\"rendimento por m2 (kg): \"))\n",
        "p=a*rdm\n",
        "print(f\"producao esperada: {p} kg\")\n",
        "if p>=100:print(\"suficiente para mercado local\")\n",
        "else:print(\"nao suficiente para mercado local\")"
      ],
      "metadata": {
        "id": "UTAVl4vws8Jm",
        "colab": {
          "base_uri": "https://localhost:8080/"
        },
        "outputId": "20545a45-c1da-4039-907a-8a647055f0b9"
      },
      "execution_count": null,
      "outputs": [
        {
          "output_type": "stream",
          "name": "stdout",
          "text": [
            "area em m2: 100\n",
            "tipo (cenoura, alface, couve): couve\n",
            "rendimento por m2 (kg): 0.2\n",
            "producao esperada: 20.0 kg\n",
            "nao suficiente para mercado local\n"
          ]
        }
      ]
    },
    {
      "cell_type": "code",
      "source": [
        "#10\n",
        "p=int(input(\"quantidade de paginas: \"))\n",
        "t=int(input(\"tempo diario (min): \"))\n",
        "v=float(input(\"velocidade (pag/min): \"))\n",
        "d=p/(t*v)\n",
        "c=p/d\n",
        "print(f\"tempo estimado: {(d)} dias\")\n",
        "print(f\"meta diaria: {(c)} paginas\")"
      ],
      "metadata": {
        "id": "WUfy-C9xs9Et",
        "colab": {
          "base_uri": "https://localhost:8080/"
        },
        "outputId": "c15585ab-2c74-4a3f-a5c0-12a2be62d050"
      },
      "execution_count": null,
      "outputs": [
        {
          "output_type": "stream",
          "name": "stdout",
          "text": [
            "quantidade de paginas: 100\n",
            "tempo diario (min): 30\n",
            "velocidade (pag/min): 1\n",
            "tempo estimado: 3.3333333333333335 dias\n",
            "meta diaria: 30.0 paginas\n"
          ]
        }
      ]
    },
    {
      "cell_type": "code",
      "source": [
        "#11\n",
        "n=int(input(\"pessoas na fila: \"))\n",
        "t=int(input(\"tempo medio por pessoa (em minutos): \"))\n",
        "e=n*t\n",
        "h=e//60\n",
        "m=e%60\n",
        "print(f\"tempo de espera: {h}h {m}min\")\n",
        "if e>60:print(\"melhor voltar depois\")\n",
        "else:print(\"pode esperar\")"
      ],
      "metadata": {
        "id": "58vlcb5zs-M9",
        "colab": {
          "base_uri": "https://localhost:8080/"
        },
        "outputId": "53e2872f-76de-42f2-9b06-999500950100"
      },
      "execution_count": null,
      "outputs": [
        {
          "output_type": "stream",
          "name": "stdout",
          "text": [
            "pessoas na fila: 10\n",
            "tempo medio por pessoa (em minutos): 30\n",
            "tempo de espera: 5h 0min\n",
            "melhor voltar depois\n"
          ]
        }
      ]
    },
    {
      "cell_type": "code",
      "source": [
        "#12\n",
        "d=int(input(\"dia de fabricacao: \"))\n",
        "m=int(input(\"mes: \"))\n",
        "a=int(input(\"ano: \"))\n",
        "v=int(input(\"validade em dias: \"))\n",
        "from datetime import date,timedelta\n",
        "f=date(a,m,d)\n",
        "h=date.today()\n",
        "d=(f+timedelta(days=v)-h).days\n",
        "print(f\"faltam {d} dias para vencer\")\n",
        "if d<0:print(\"vermelho produto vencido\")\n",
        "elif d<10:print(\"amarelo perto do vencimento\")\n",
        "else:print(\"verde dentro da validade\")"
      ],
      "metadata": {
        "id": "cqmX9sEQtABd",
        "colab": {
          "base_uri": "https://localhost:8080/"
        },
        "outputId": "5b8a5f19-a06b-4dfe-ca17-ab6001f92a36"
      },
      "execution_count": null,
      "outputs": [
        {
          "output_type": "stream",
          "name": "stdout",
          "text": [
            "dia de fabricacao: 10\n",
            "mes: 04\n",
            "ano: 2025\n",
            "validade em dias: 25\n",
            "faltam -3 dias para vencer\n",
            "vermelho produto vencido\n"
          ]
        }
      ]
    },
    {
      "cell_type": "code",
      "source": [
        "#13\n",
        "da, ma, aa = map(int, input(\"data atual (dd mm aaaa): \").split())\n",
        "de, me, ae = map(int, input(\"data do evento (dd mm aaaa): \").split())\n",
        "ta = aa * 365 + ma * 30 + da\n",
        "te = ae * 365 + me * 30 + de\n",
        "if ae == aa:\n",
        "    if te > ta:\n",
        "        r = te - ta\n",
        "        print(f\"faltam {r} dias para o evento\")\n",
        "    elif te == ta:\n",
        "        print(\"hoje é o dia do evento!\")\n",
        "    else:\n",
        "        r = ta - te\n",
        "        print(f\"evento ja passou\")\n",
        "elif ae > aa:\n",
        "    r = te - ta\n",
        "    print(f\"faltam {r} dias para o evento\")\n",
        "else:\n",
        "    r = (365 - ta) + te\n",
        "    print(f\"evento já passou\")\n"
      ],
      "metadata": {
        "id": "PYsPTOlitBzN",
        "colab": {
          "base_uri": "https://localhost:8080/"
        },
        "outputId": "68ed3b1c-c1e4-421f-988c-0c179730a143"
      },
      "execution_count": null,
      "outputs": [
        {
          "output_type": "stream",
          "name": "stdout",
          "text": [
            "data atual (dd mm aaaa): 05 10 2025\n",
            "data do evento (dd mm aaaa): 07 10 2025\n",
            "faltam 2 dias para o evento\n"
          ]
        }
      ]
    },
    {
      "cell_type": "code",
      "source": [
        "#14\n",
        "idade = int(input(\"qual a idade da criança? \"))\n",
        "tempo = int(input(\"quanto tempo ela fica nas telas? \"))\n",
        "if idade < 2:\n",
        "    if tempo > 0:\n",
        "        print(\"exagerado\")\n",
        "    else:\n",
        "        print(\"adequado\")\n",
        "elif idade < 5:\n",
        "    if tempo > 1:\n",
        "        print(\"exagerado\")\n",
        "    else:\n",
        "        print(\"adequado\")\n",
        "elif idade < 12:\n",
        "    if tempo > 2:\n",
        "        print(\"exagerado\")\n",
        "    else:\n",
        "        print(\"adequado\")\n",
        "else:\n",
        "    if tempo > 3:\n",
        "        print(\"exagerado\")\n",
        "    else:\n",
        "        print(\"adequado\")\n"
      ],
      "metadata": {
        "id": "P50reBSWtCil",
        "colab": {
          "base_uri": "https://localhost:8080/"
        },
        "outputId": "be01e5b0-165f-49a9-df02-fa46864b0ee5"
      },
      "execution_count": null,
      "outputs": [
        {
          "output_type": "stream",
          "name": "stdout",
          "text": [
            "qual a idade da criança? 18\n",
            "quanto tempo ela fica nas telas? 8\n",
            "exagerado\n"
          ]
        }
      ]
    },
    {
      "cell_type": "code",
      "source": [
        "#15\n",
        "h1, m1 = map(int, input(\"horario da saida?\").split())\n",
        "tv = int(input('qual o tempo de voo?(em minutos) '))\n",
        "te = int(input(\"qual o tempo de escala?(em minutos) \"))\n",
        "tm = h1 * 60 + m1 + tv + te\n",
        "h2 = tm // 60\n",
        "m2 = tm % 60\n",
        "dh = tm // 60\n",
        "dm = tm % 60\n",
        "print(f\"chegada prevista: {h2:02d}:{m2:02d}\")\n",
        "print(f\"duraçao total: {dh}h {dm}m\")\n"
      ],
      "metadata": {
        "id": "_ob9JaKrtDV9",
        "colab": {
          "base_uri": "https://localhost:8080/"
        },
        "outputId": "42c345c0-8f22-420e-f841-2334677f0401"
      },
      "execution_count": null,
      "outputs": [
        {
          "output_type": "stream",
          "name": "stdout",
          "text": [
            "horario da saida?13 30\n",
            "qual o tempo de voo? 120\n",
            "qual o tempo de escala? 30\n",
            "chegada prevista: 16:00\n",
            "duração total: 16h 0m\n"
          ]
        }
      ]
    },
    {
      "cell_type": "code",
      "source": [
        "#16\n",
        "valor = float(input(\"Informe o valor da compra: R$\"))\n",
        "economia = 0\n",
        "if valor <= 100:\n",
        "    economia = valor * 0.05\n",
        "elif valor <= 200:\n",
        "    economia = (100 * 0.05) + ((valor - 100) * 0.10)\n",
        "else:\n",
        "    economia = (100 * 0.05) + (100 * 0.10) + ((valor - 200) * 0.15)\n",
        "valor_final = valor - economia\n",
        "print(f\"Valor original: R${valor:.2f}\")\n",
        "print(f\"Valor com desconto: R${valor_final:.2f}\")\n",
        "print(f\"Economia obtida: R${economia:.2f}\")"
      ],
      "metadata": {
        "id": "VD2MmMtUtET1",
        "colab": {
          "base_uri": "https://localhost:8080/"
        },
        "outputId": "2f51529c-1adb-44d3-ac88-f3659a7387ac"
      },
      "execution_count": 1,
      "outputs": [
        {
          "output_type": "stream",
          "name": "stdout",
          "text": [
            "Informe o valor da compra: R$100\n",
            "Valor original: R$100.00\n",
            "Valor com desconto: R$95.00\n",
            "Economia obtida: R$5.00\n"
          ]
        }
      ]
    },
    {
      "cell_type": "code",
      "source": [
        "#17\n",
        "idade = int(input(\"Informe sua idade atual: \"))\n",
        "anos_saudaveis = int(input(\"Por quantos anos você pretende manter hábitos saudáveis? \"))\n",
        "ganho = 0\n",
        "if anos_saudaveis <= 5:\n",
        "    ganho = anos_saudaveis * 0.5\n",
        "elif anos_saudaveis <= 10:\n",
        "    ganho = (5 * 0.5) + ((anos_saudaveis - 5) * 0.3)\n",
        "else:\n",
        "    ganho = (5 * 0.5) + (5 * 0.3) + ((anos_saudaveis - 10) * 0.2)\n",
        "idade_final = idade + anos_saudaveis\n",
        "expectativa_final = idade_final + ganho\n",
        "print(f\"\\nIdade ao fim do período saudável: {idade_final} anos\")\n",
        "print(f\"Expectativa de vida aumentada: +{ganho:.1f} anos\")\n",
        "print(f\"Nova expectativa de vida estimada: {expectativa_final:.1f} anos\")"
      ],
      "metadata": {
        "id": "ytjuy3-EtGI9",
        "colab": {
          "base_uri": "https://localhost:8080/"
        },
        "outputId": "5ab22803-1473-4f5f-fba1-e7586e220f60"
      },
      "execution_count": 4,
      "outputs": [
        {
          "output_type": "stream",
          "name": "stdout",
          "text": [
            "Informe sua idade atual: 23\n",
            "Por quantos anos você pretende manter hábitos saudáveis? 20\n",
            "\n",
            "Idade ao fim do período saudável: 43 anos\n",
            "Expectativa de vida aumentada: +6.0 anos\n",
            "Nova expectativa de vida estimada: 49.0 anos\n"
          ]
        }
      ]
    },
    {
      "cell_type": "code",
      "source": [
        "#18\n",
        "hora = int(input(\"Informe a hora que você precisa acordar (0-23): \"))\n",
        "minuto = int(input(\"Informe os minutos (0-59): \"))\n",
        "ciclos = [6, 5, 4]\n",
        "for ciclo in ciclos:\n",
        "    total_minutos = (ciclo * 90) + 15\n",
        "    hora_dormir = hora\n",
        "    minuto_dormir = minuto - total_minutos\n",
        "    while minuto_dormir < 0:\n",
        "        minuto_dormir += 60\n",
        "        hora_dormir -= 1\n",
        "    while hora_dormir < 0:\n",
        "        hora_dormir += 24\n",
        "print(f\"Durma às {hora_dormir:02d}:{minuto_dormir:02d} para {ciclo} ciclos de sono.\")"
      ],
      "metadata": {
        "id": "Ctw3fiuCtHOt",
        "colab": {
          "base_uri": "https://localhost:8080/"
        },
        "outputId": "c6cbf229-2acb-4ad3-d490-9c642d156911"
      },
      "execution_count": 7,
      "outputs": [
        {
          "output_type": "stream",
          "name": "stdout",
          "text": [
            "Informe a hora que você precisa acordar (0-23): 6\n",
            "Informe os minutos (0-59): 0\n",
            "Durma às 23:45 para 4 ciclos de sono.\n"
          ]
        }
      ]
    },
    {
      "cell_type": "code",
      "source": [
        "#19\n",
        "passos_por_minuto = int(input(\"Quantos passos você dá por minuto? \"))\n",
        "tempo_caminhada_minutos = int(input(\"Por quantos minutos você caminhou? \"))\n",
        "passos_totais = passos_por_minuto * tempo_caminhada_minutos\n",
        "quilometros = passos_totais / 1300\n",
        "calorias_gastas = passos_totais * 0.04\n",
        "print(f\"Você caminhou aproximadamente {quilometros:.2f} quilômetros.\")\n",
        "print(f\"Estimativa de calorias gastas: {calorias_gastas:.2f} calorias.\")"
      ],
      "metadata": {
        "id": "_L66TXyltI8l",
        "colab": {
          "base_uri": "https://localhost:8080/"
        },
        "outputId": "c9cb8a8f-f644-4c02-98c0-b4c7a4fd2405"
      },
      "execution_count": 43,
      "outputs": [
        {
          "output_type": "stream",
          "name": "stdout",
          "text": [
            "Quantos passos você dá por minuto? 120\n",
            "Por quantos minutos você caminhou? 40\n",
            "Você caminhou aproximadamente 3.69 quilômetros.\n",
            "Estimativa de calorias gastas: 192.00 calorias.\n"
          ]
        }
      ]
    },
    {
      "cell_type": "code",
      "source": [
        "#20\n",
        "hora_atual = int(input(\"Informe a hora atual (HH): \"))\n",
        "minuto_atual = int(input(\"Informe os minutos atuais (MM): \"))\n",
        "hora_pôr_do_sol = 18\n",
        "minuto_pôr_do_sol = 0\n",
        "tempo_atual = hora_atual * 60 + minuto_atual\n",
        "tempo_pôr_do_sol = hora_pôr_do_sol * 60 + minuto_pôr_do_sol\n",
        "if tempo_atual < tempo_pôr_do_sol:\n",
        "    tempo_restante = tempo_pôr_do_sol - tempo_atual\n",
        "    horas_restantes = tempo_restante // 60\n",
        "    minutos_restantes = tempo_restante % 60\n",
        "    print(f\"O pôr do sol acontecerá em {horas_restantes} horas e {minutos_restantes} minutos.\")\n",
        "else:\n",
        "    print(\"O sol já se pôs.\")"
      ],
      "metadata": {
        "id": "zLmhGzrftK_V",
        "colab": {
          "base_uri": "https://localhost:8080/"
        },
        "outputId": "740d070b-57b9-4c15-e54a-8779449bfc2b"
      },
      "execution_count": 44,
      "outputs": [
        {
          "output_type": "stream",
          "name": "stdout",
          "text": [
            "Informe a hora atual (HH): 14\n",
            "Informe os minutos atuais (MM): 30\n",
            "O pôr do sol acontecerá em 3 horas e 30 minutos.\n"
          ]
        }
      ]
    },
    {
      "cell_type": "code",
      "source": [
        "#21\n",
        "entrada = input(\"Digite a entrada que deseja: \")\n",
        "principal = input(\"Digite o prato principal que deseja: \")\n",
        "sobremesa = input(\"Digite a sobremesa que deseja: \")\n",
        "tempo_de_preparo_entrada = int(input(f\"Digite o tempo de preparo do {entrada} em minutos: \"))\n",
        "tempo_de_preparo_principal = int(input(f\"Digite o tempo de preparo do {principal} em minutos: \"))\n",
        "tempo_de_preparo_sobremesa = int(input(f\"Digite o tempo de preparo da {sobremesa} em minutos: \"))\n",
        "tempo_total = tempo_de_preparo_entrada + tempo_de_preparo_principal + tempo_de_preparo_sobremesa\n",
        "print(f\"Tempo total de preparo: {tempo_total} minutos\")"
      ],
      "metadata": {
        "id": "dbjk06CItMId",
        "colab": {
          "base_uri": "https://localhost:8080/"
        },
        "outputId": "d7ed45a8-21bf-4a83-c2e4-8d0edcedc095"
      },
      "execution_count": 36,
      "outputs": [
        {
          "output_type": "stream",
          "name": "stdout",
          "text": [
            "Digite a entrada que deseja: pao\n",
            "Digite o prato principal que deseja: parmegiana\n",
            "Digite a sobremesa que deseja: pudim\n",
            "Digite o tempo de preparo do pao em minutos: 20\n",
            "Digite o tempo de preparo do parmegiana em minutos: 35\n",
            "Digite o tempo de preparo da pudim em minutos: 30\n",
            "Tempo total de preparo: 85 minutos\n"
          ]
        }
      ]
    },
    {
      "cell_type": "code",
      "source": [
        "#22\n",
        "distancia = float(input(\"Informe a distância até o destino (km): \"))\n",
        "parada = float(input(\"Informe o tempo de parada na cidade (horas): \"))\n",
        "velocidade = float(input(\"Informe a velocidade média (km/h): \"))\n",
        "tempo_ida = distancia / velocidade\n",
        "tempo_volta = tempo_ida\n",
        "tempo_total = tempo_ida + parada + tempo_volta\n",
        "descanso = 24 - tempo_total\n",
        "print(f\"\\nTempo de ida: {tempo_ida:.2f} horas\")\n",
        "print(f\"Tempo de volta: {tempo_volta:.2f} horas\")\n",
        "print(f\"Tempo total da jornada: {tempo_total:.2f} horas\")\n",
        "if descanso > 0:\n",
        "    print(f\"Tempo disponível para descanso: {descanso:.2f} horas\")\n",
        "else:\n",
        "    print(\"Jornada excede 24 horas! Considere ajustar paradas ou velocidade.\")"
      ],
      "metadata": {
        "id": "ouaFg0bLtM_9",
        "colab": {
          "base_uri": "https://localhost:8080/"
        },
        "outputId": "979460af-850a-4e9a-e113-ac4744395c57"
      },
      "execution_count": 35,
      "outputs": [
        {
          "output_type": "stream",
          "name": "stdout",
          "text": [
            "Informe a distância até o destino (km): 25\n",
            "Informe o tempo de parada na cidade (horas): 1\n",
            "Informe a velocidade média (km/h): 80\n",
            "\n",
            "Tempo de ida: 0.31 horas\n",
            "Tempo de volta: 0.31 horas\n",
            "Tempo total da jornada: 1.62 horas\n",
            "Tempo disponível para descanso: 22.38 horas\n"
          ]
        }
      ]
    },
    {
      "cell_type": "code",
      "source": [
        "#23\n",
        "from datetime import datetime\n",
        "dia = int(input(\"Informe o dia atual (DD): \"))\n",
        "mes = int(input(\"Informe o mês atual (MM): \"))\n",
        "ano = int(input(\"Informe o ano atual (YYYY): \"))\n",
        "hora_atual = int(input(\"Informe a hora atual (HH): \"))\n",
        "minuto_atual = int(input(\"Informe os minutos atuais (MM): \"))\n",
        "segundo_atual = int(input(\"Informe os segundos atuais (SS): \"))\n",
        "data_atual = datetime(ano, mes, dia, hora_atual, minuto_atual, segundo_atual)\n",
        "if (ano % 4 == 0 and ano % 100 != 0) or (ano % 400 == 0):\n",
        "  ano_novo = datetime(ano, 12, 31, 23, 59, 59)\n",
        "else:\n",
        "  ano_novo = datetime(ano, 12, 31, 23, 59, 59)\n",
        "tempo_faltando = ano_novo - data_atual\n",
        "segundos_faltando = tempo_faltando.total_seconds()\n",
        "print(f\"Faltam {int(segundos_faltando)} segundos para o ano novo!\")"
      ],
      "metadata": {
        "id": "VLYm_GKetNuN",
        "colab": {
          "base_uri": "https://localhost:8080/"
        },
        "outputId": "b6a2be1d-3179-49c8-811e-36636d9024ae"
      },
      "execution_count": 47,
      "outputs": [
        {
          "output_type": "stream",
          "name": "stdout",
          "text": [
            "Informe o dia atual (DD): 09\n",
            "Informe o mês atual (MM): 05\n",
            "Informe o ano atual (YYYY): 2025\n",
            "Informe a hora atual (HH): 22\n",
            "Informe os minutos atuais (MM): 17\n",
            "Informe os segundos atuais (SS): 40\n",
            "Faltam 20396539 segundos para o ano novo!\n"
          ]
        }
      ]
    },
    {
      "cell_type": "code",
      "source": [
        "#24\n",
        "maior = -999\n",
        "menor = 999\n",
        "soma = 0\n",
        "total = 0\n",
        "risco = 0\n",
        "for i in range(5):\n",
        " print(f\"Dia {i+1}:\")\n",
        " m = float(input(\"Manhã: \"))\n",
        " t = float(input(\"Tarde: \"))\n",
        " n = float(input(\"Noite: \"))\n",
        "for temp in [m, t, n]:\n",
        " if temp > maior:\n",
        "  maior = temp\n",
        " if temp < menor:\n",
        "  menor = temp\n",
        "  soma += temp\n",
        "  total += 1\n",
        "if (m > 35) + (t > 35) + (n > 35) >= 2:\n",
        "        risco += 1\n",
        "media = soma / total\n",
        "print(\"Relatório\")\n",
        "print(f\"Maior temperatura: {maior:.1f}°C\")\n",
        "print(f\"Menor temperatura: {menor:.1f}°C\")\n",
        "print(f\"Média geral: {media:.1f}°C\")\n",
        "print(f\"Dias com risco de insolação: {risco}\")"
      ],
      "metadata": {
        "id": "Cq7sOGkXtOPl",
        "colab": {
          "base_uri": "https://localhost:8080/"
        },
        "outputId": "b41522b2-5bd2-457f-a77c-96ed67556263"
      },
      "execution_count": 20,
      "outputs": [
        {
          "output_type": "stream",
          "name": "stdout",
          "text": [
            "Dia 1:\n",
            "Manhã: 24\n",
            "Tarde: 36\n",
            "Noite: 38\n",
            "Dia 2:\n",
            "Manhã: 24\n",
            "Tarde: 39\n",
            "Noite: 38\n",
            "Dia 3:\n",
            "Manhã: 16\n",
            "Tarde: 20\n",
            "Noite: 18\n",
            "Dia 4:\n",
            "Manhã: 20\n",
            "Tarde: 28\n",
            "Noite: 26\n",
            "Dia 5:\n",
            "Manhã: 24\n",
            "Tarde: 34\n",
            "Noite: 36\n",
            "Relatório\n",
            "Maior temperatura: 36.0°C\n",
            "Menor temperatura: 24.0°C\n",
            "Média geral: 24.0°C\n",
            "Dias com risco de insolação: 0\n"
          ]
        }
      ]
    },
    {
      "cell_type": "code",
      "source": [
        "#25\n",
        "velocidade = float(input(\"Informe a velocidade média do ciclista (km/h): \"))\n",
        "dias = int(input(\"Informe o número de dias de pedalada: \"))\n",
        "maior_rendimento = 0\n",
        "dia_maior_rendimento = 0\n",
        "distancia_total = 0\n",
        "for dia in range(1, dias + 1):\n",
        " duracao = float(input(f\"Informe a duração da pedalada no dia {dia} (em horas): \"))\n",
        " distancia = duracao * velocidade\n",
        " distancia_total += distancia\n",
        "if distancia > maior_rendimento:\n",
        "  maior_rendimento = distancia\n",
        "  dia_maior_rendimento = dia\n",
        "print(f\"Distância total percorrida: {distancia_total:.2f} km\")\n",
        "print(f\"O dia de maior rendimento foi o dia {dia_maior_rendimento} com {maior_rendimento:.2f} km.\")"
      ],
      "metadata": {
        "id": "fmSfJe2rtRqN",
        "colab": {
          "base_uri": "https://localhost:8080/"
        },
        "outputId": "8cad4253-1feb-426c-f4a4-44652a4d9a90"
      },
      "execution_count": 24,
      "outputs": [
        {
          "output_type": "stream",
          "name": "stdout",
          "text": [
            "Informe a velocidade média do ciclista (km/h): 35\n",
            "Informe o número de dias de pedalada: 4\n",
            "Informe a duração da pedalada no dia 1 (em horas): 3\n",
            "Informe a duração da pedalada no dia 2 (em horas): 2\n",
            "Informe a duração da pedalada no dia 3 (em horas): 4\n",
            "Informe a duração da pedalada no dia 4 (em horas): 3\n",
            "Distância total percorrida: 420.00 km\n",
            "O dia de maior rendimento foi o dia 4 com 105.00 km.\n"
          ]
        }
      ]
    },
    {
      "cell_type": "code",
      "source": [
        "#26\n",
        "aparelhos = []\n",
        "for i in range(3):\n",
        "  potencia = float(input(f\"Informe a potência do aparelho {i+1} (em watts): \"))\n",
        "  tempo_uso_diario = float(input(f\"Informe o tempo de uso diário do aparelho {i+1} (em horas): \"))\n",
        "  aparelhos.append((potencia, tempo_uso_diario))\n",
        "consumo_mensal_total = 0\n",
        "for i, (potencia, tempo_uso_diario) in enumerate(aparelhos):\n",
        "  consumo_diario_kWh = (potencia / 1000) * tempo_uso_diario\n",
        "  consumo_mensal_kWh = consumo_diario_kWh * 30\n",
        "  consumo_mensal_total += consumo_mensal_kWh\n",
        "print(f\"Consumo mensal do aparelho {i+1}: {consumo_mensal_kWh:.2f} kWh\")\n",
        "print(f\"Consumo mensal total da residência: {consumo_mensal_total:.2f} kWh\")"
      ],
      "metadata": {
        "id": "hVVIzYxYtS19",
        "colab": {
          "base_uri": "https://localhost:8080/"
        },
        "outputId": "bad4b29b-9f6c-486a-f74f-2641c41448ca"
      },
      "execution_count": 21,
      "outputs": [
        {
          "output_type": "stream",
          "name": "stdout",
          "text": [
            "Informe a potência do aparelho 1 (em watts): 110\n",
            "Informe o tempo de uso diário do aparelho 1 (em horas): 3\n",
            "Informe a potência do aparelho 2 (em watts): 220\n",
            "Informe o tempo de uso diário do aparelho 2 (em horas): 2\n",
            "Informe a potência do aparelho 3 (em watts): 220\n",
            "Informe o tempo de uso diário do aparelho 3 (em horas): 1\n",
            "Consumo mensal do aparelho 3: 6.60 kWh\n",
            "Consumo mensal total da residência: 29.70 kWh\n"
          ]
        }
      ]
    },
    {
      "cell_type": "code",
      "source": [
        "#27\n",
        "hora = int(input(\"Informe a hora que o paciente tomou o remédio (HH): \"))\n",
        "minuto = int(input(\"Informe os minutos que o paciente tomou o remédio (MM): \"))\n",
        "for i in range(1, 4):\n",
        "  minuto_total = hora * 60 + minuto\n",
        "  minuto_total += 8 * 60\n",
        "  hora = (minuto_total // 60) % 24\n",
        "  minuto = minuto_total % 60\n",
        "print(f\"Próxima dose ({i}ª): {hora:02d}:{minuto:02d}\")"
      ],
      "metadata": {
        "id": "mOmOUyLdtT41",
        "colab": {
          "base_uri": "https://localhost:8080/"
        },
        "outputId": "a41f6749-7986-4d96-d8f8-2f3444bb349f"
      },
      "execution_count": 30,
      "outputs": [
        {
          "output_type": "stream",
          "name": "stdout",
          "text": [
            "Informe a hora que o paciente tomou o remédio (HH): 8\n",
            "Informe os minutos que o paciente tomou o remédio (MM): 45\n",
            "Próxima dose (3ª): 08:45\n"
          ]
        }
      ]
    },
    {
      "cell_type": "code",
      "source": [
        "#28\n",
        "hora_atual = int(input(\"Informe a hora atual (HH): \"))\n",
        "minuto_atual = int(input(\"Informe os minutos atuais (MM): \"))\n",
        "hora_filme = 20\n",
        "minuto_filme = 0\n",
        "tempo_atual = hora_atual * 60 + minuto_atual\n",
        "tempo_filme = hora_filme * 60 + minuto_filme\n",
        "duracao_filme = 120\n",
        "if tempo_atual < tempo_filme:\n",
        "    tempo_restante = tempo_filme - tempo_atual\n",
        "    print(f\"Faltam {tempo_restante // 60} horas e {tempo_restante % 60} minutos para o início do filme.\")\n",
        "else:\n",
        "    tempo_passado = tempo_atual - tempo_filme\n",
        "    if tempo_passado >= duracao_filme:\n",
        "        print(\"O filme já acabou.\")\n",
        "    else:\n",
        "        tempo_restante_filme = duracao_filme - tempo_passado\n",
        "        print(f\"O filme já começou. Você perdeu {tempo_passado // 60} horas e {tempo_passado % 60} minutos de filme.\")\n",
        "        print(f\"Faltam {tempo_restante_filme // 60} horas e {tempo_restante_filme % 60} minutos de filme.\")"
      ],
      "metadata": {
        "id": "iGodwov9tUme",
        "colab": {
          "base_uri": "https://localhost:8080/"
        },
        "outputId": "dededf82-1d0b-446d-f694-c459dca938fd"
      },
      "execution_count": 60,
      "outputs": [
        {
          "output_type": "stream",
          "name": "stdout",
          "text": [
            "Informe a hora atual (HH): 20\n",
            "Informe os minutos atuais (MM): 45\n",
            "O filme já começou. Você perdeu 0 horas e 45 minutos de filme.\n",
            "Faltam 1 horas e 15 minutos de filme.\n"
          ]
        }
      ]
    },
    {
      "cell_type": "code",
      "source": [
        "#29\n",
        "horas_disponiveis = float(input(\"Informe o total de horas disponíveis na semana: \"))\n",
        "quantidade_disciplinas = int(input(\"Informe a quantidade de disciplinas: \"))\n",
        "horas_por_disciplina = horas_disponiveis / quantidade_disciplinas\n",
        "print(f\"Você deve dedicar {horas_por_disciplina:.2f} horas para cada disciplina.\")\n",
        "if horas_por_disciplina < 1:\n",
        "    print(\"Alerta: Você precisa dedicar pelo menos 1 hora por disciplina.\")"
      ],
      "metadata": {
        "id": "FmRnssfNtVOt",
        "colab": {
          "base_uri": "https://localhost:8080/"
        },
        "outputId": "2b80665b-3179-4c49-f465-0a511fdc9df9"
      },
      "execution_count": 61,
      "outputs": [
        {
          "output_type": "stream",
          "name": "stdout",
          "text": [
            "Informe o total de horas disponíveis na semana: 5\n",
            "Informe a quantidade de disciplinas: 2\n",
            "Você deve dedicar 2.50 horas para cada disciplina.\n"
          ]
        }
      ]
    },
    {
      "cell_type": "code",
      "source": [
        "#30\n",
        "tarefas_diarias = []\n",
        "for dia in range(5):\n",
        "  tarefas = int(input(f\"Digite o número de tarefas concluídas no dia {dia + 1}: \"))\n",
        "  tarefas_diarias.append(tarefas)\n",
        "  media_tarefas = sum(tarefas_diarias) / len(tarefas_diarias)\n",
        "  print(f\"\\nA média de tarefas concluídas por dia é: {media_tarefas:.2f}\")\n",
        "  queda_consecutiva = 0\n",
        "for i in range(1, len(tarefas_diarias)):\n",
        "  if tarefas_diarias[i] < tarefas_diarias[i - 1]:\n",
        "    queda_consecutiva += 1\n",
        "    if queda_consecutiva >= 2:\n",
        "      print(\"\\nAlerta: Produtividade caiu por dois dias consecutivos!\")\n",
        "      break\n",
        "else:\n",
        "  queda_consecutiva = 0"
      ],
      "metadata": {
        "id": "BRMlBbSOtWCV",
        "colab": {
          "base_uri": "https://localhost:8080/"
        },
        "outputId": "e5553b98-feda-498b-deaf-3b14dc46cb1e"
      },
      "execution_count": 31,
      "outputs": [
        {
          "output_type": "stream",
          "name": "stdout",
          "text": [
            "Digite o número de tarefas concluídas no dia 1: 5\n",
            "\n",
            "A média de tarefas concluídas por dia é: 5.00\n",
            "Digite o número de tarefas concluídas no dia 2: 6\n",
            "\n",
            "A média de tarefas concluídas por dia é: 5.50\n",
            "Digite o número de tarefas concluídas no dia 3: 10\n",
            "\n",
            "A média de tarefas concluídas por dia é: 7.00\n",
            "Digite o número de tarefas concluídas no dia 4: 12\n",
            "\n",
            "A média de tarefas concluídas por dia é: 8.25\n",
            "Digite o número de tarefas concluídas no dia 5: 14\n",
            "\n",
            "A média de tarefas concluídas por dia é: 9.40\n"
          ]
        }
      ]
    }
  ]
}