{
  "nbformat": 4,
  "nbformat_minor": 0,
  "metadata": {
    "colab": {
      "provenance": [],
      "authorship_tag": "ABX9TyPuiKNoTTFoqjUtLi25cYKY",
      "include_colab_link": true
    },
    "kernelspec": {
      "name": "python3",
      "display_name": "Python 3"
    },
    "language_info": {
      "name": "python"
    }
  },
  "cells": [
    {
      "cell_type": "markdown",
      "metadata": {
        "id": "view-in-github",
        "colab_type": "text"
      },
      "source": [
        "<a href=\"https://colab.research.google.com/github/joaovitorfantecelle/ALGESTDADOS_20251/blob/main/Aula_1_2025.ipynb\" target=\"_parent\"><img src=\"https://colab.research.google.com/assets/colab-badge.svg\" alt=\"Open In Colab\"/></a>"
      ]
    },
    {
      "cell_type": "code",
      "execution_count": null,
      "metadata": {
        "id": "6fDp9Ut4ZrsH",
        "colab": {
          "base_uri": "https://localhost:8080/"
        },
        "outputId": "ea61d066-5cab-4877-eed1-4a60a360de5b"
      },
      "outputs": [
        {
          "output_type": "stream",
          "name": "stdout",
          "text": [
            "3570\n"
          ]
        }
      ],
      "source": [
        "#Soma de dois números conhecidos em Phyton\n",
        "num1 = 1930\n",
        "num2 = 1640\n",
        "resultado = num1 + num2\n",
        "print(resultado)\n"
      ]
    },
    {
      "cell_type": "code",
      "execution_count": null,
      "metadata": {
        "colab": {
          "base_uri": "https://localhost:8080/"
        },
        "outputId": "f9825026-9e8b-4b27-9d91-107e43c7264e",
        "id": "D-d9HAjywsfM"
      },
      "outputs": [
        {
          "output_type": "stream",
          "name": "stdout",
          "text": [
            "digite o primeiro número:1\n",
            "digite o segundo número:2\n",
            "3\n"
          ]
        }
      ],
      "source": [
        "#Soma de dois números desconhecidos em Phyton\n",
        "num1 = int(input('digite o primeiro número:'))\n",
        "num2 = int(input('digite o segundo número:'))\n",
        "resultado = num1 + num2\n",
        "print(resultado)"
      ]
    },
    {
      "cell_type": "code",
      "source": [
        "#Crie um algoritmo em Phyton que calcule o valor do IMC de uma pessoa\n",
        "#entrada\n",
        "peso = float(input('Digite o seu peso:'))\n",
        "altura = float(input('Digite a sua altura:'))\n",
        "#processamento\n",
        "IMC = peso / altura**2\n",
        "#saida\n",
        "print(IMC)"
      ],
      "metadata": {
        "colab": {
          "base_uri": "https://localhost:8080/"
        },
        "id": "zpkMmS6k7IFX",
        "outputId": "35188c23-27df-417e-c538-ec090123ca20"
      },
      "execution_count": null,
      "outputs": [
        {
          "output_type": "stream",
          "name": "stdout",
          "text": [
            "Digite o seu peso:90\n",
            "Digite a sua altura:1.88\n",
            "25.46401086464464\n"
          ]
        }
      ]
    },
    {
      "cell_type": "code",
      "source": [
        "from datetime import datetime\n",
        "# Criar um programa que retorne o nome , a cidade e a idaede um usuário através da sua data de nascimento\n",
        "nome = input('Digite o seu nome: ')\n",
        "cidade = input('Digite o nome da sua cidade: ')\n",
        "data_nasc = input('Quando você nasceu? (DD/MM/YYYY)')\n",
        "data_conv= datetime.strptime(data_nasc, '%d/%m/%Y')\n",
        "hoje = datetime.now()\n",
        "idade = (hoje - data_conv).days //365\n",
        "print(f'Seu nome é {nome}, sua cidade é {cidade} e sua idade é {idade} anos')"
      ],
      "metadata": {
        "colab": {
          "base_uri": "https://localhost:8080/"
        },
        "id": "CzSkdHcaRrMV",
        "outputId": "45f54574-a168-46fc-a98f-0d84ddbad968"
      },
      "execution_count": null,
      "outputs": [
        {
          "output_type": "stream",
          "name": "stdout",
          "text": [
            "Digite o seu nome: João Vitor\n",
            "Digite o nome da sua cidade: Vila Valério\n",
            "Quando você nasceu? (DD/MM/YYYY)16/08/2001\n",
            "Seu nome é João Vitor, sua cidade é Vila Valério e sua idade é 23 anos\n"
          ]
        }
      ]
    }
  ]
}