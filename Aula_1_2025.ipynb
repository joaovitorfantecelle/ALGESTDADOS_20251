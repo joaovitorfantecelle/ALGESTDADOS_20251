{
  "nbformat": 4,
  "nbformat_minor": 0,
  "metadata": {
    "colab": {
      "provenance": [],
      "authorship_tag": "ABX9TyO5jCJAfs3i46TiLsewRi/g",
      "include_colab_link": true
    },
    "kernelspec": {
      "name": "python3",
      "display_name": "Python 3"
    },
    "language_info": {
      "name": "python"
    }
  },
  "cells": [
    {
      "cell_type": "markdown",
      "metadata": {
        "id": "view-in-github",
        "colab_type": "text"
      },
      "source": [
        "<a href=\"https://colab.research.google.com/github/joaovitorfantecelle/ALGESTDADOS_20251/blob/main/Aula_1_2025.ipynb\" target=\"_parent\"><img src=\"https://colab.research.google.com/assets/colab-badge.svg\" alt=\"Open In Colab\"/></a>"
      ]
    },
    {
      "cell_type": "code",
      "execution_count": null,
      "metadata": {
        "id": "6fDp9Ut4ZrsH",
        "colab": {
          "base_uri": "https://localhost:8080/"
        },
        "outputId": "ea61d066-5cab-4877-eed1-4a60a360de5b"
      },
      "outputs": [
        {
          "output_type": "stream",
          "name": "stdout",
          "text": [
            "3570\n"
          ]
        }
      ],
      "source": [
        "#Soma de dois números conhecidos em Phyton\n",
        "num1 = 1930\n",
        "num2 = 1640\n",
        "resultado = num1 + num2\n",
        "print(resultado)\n"
      ]
    },
    {
      "cell_type": "code",
      "execution_count": null,
      "metadata": {
        "colab": {
          "base_uri": "https://localhost:8080/"
        },
        "outputId": "f9825026-9e8b-4b27-9d91-107e43c7264e",
        "id": "D-d9HAjywsfM"
      },
      "outputs": [
        {
          "output_type": "stream",
          "name": "stdout",
          "text": [
            "digite o primeiro número:1\n",
            "digite o segundo número:2\n",
            "3\n"
          ]
        }
      ],
      "source": [
        "#Soma de dois números desconhecidos em Phyton\n",
        "num1 = int(input('digite o primeiro número:'))\n",
        "num2 = int(input('digite o segundo número:'))\n",
        "resultado = num1 + num2\n",
        "print(resultado)"
      ]
    },
    {
      "cell_type": "code",
      "source": [
        "#Crie um algoritmo em Phyton que calcule o valor do IMC de uma pessoa\n",
        "#entrada\n",
        "peso = float(input('Digite o seu peso:'))\n",
        "altura = float(input('Digite a sua altura:'))\n",
        "#processamento\n",
        "IMC = peso / altura**2\n",
        "#saida\n",
        "print(IMC)"
      ],
      "metadata": {
        "colab": {
          "base_uri": "https://localhost:8080/"
        },
        "id": "zpkMmS6k7IFX",
        "outputId": "35188c23-27df-417e-c538-ec090123ca20"
      },
      "execution_count": null,
      "outputs": [
        {
          "output_type": "stream",
          "name": "stdout",
          "text": [
            "Digite o seu peso:90\n",
            "Digite a sua altura:1.88\n",
            "25.46401086464464\n"
          ]
        }
      ]
    },
    {
      "cell_type": "code",
      "source": [
        "from datetime import datetime\n",
        "# Criar um programa que retorne o nome , a cidade e a idaede um usuário através da sua data de nascimento\n",
        "nome = input('Digite o seu nome: ')\n",
        "cidade = input('Digite o nome da sua cidade: ')\n",
        "data_nasc = input('Quando você nasceu? (DD/MM/YYYY)')\n",
        "data_conv= datetime.strptime(data_nasc, '%d/%m/%Y')\n",
        "hoje = datetime.now()\n",
        "idade = (hoje - data_conv).days //365\n",
        "print(f'Seu nome é {nome}, sua cidade é {cidade} e sua idade é {idade} anos')"
      ],
      "metadata": {
        "colab": {
          "base_uri": "https://localhost:8080/"
        },
        "id": "CzSkdHcaRrMV",
        "outputId": "45f54574-a168-46fc-a98f-0d84ddbad968"
      },
      "execution_count": null,
      "outputs": [
        {
          "output_type": "stream",
          "name": "stdout",
          "text": [
            "Digite o seu nome: João Vitor\n",
            "Digite o nome da sua cidade: Vila Valério\n",
            "Quando você nasceu? (DD/MM/YYYY)16/08/2001\n",
            "Seu nome é João Vitor, sua cidade é Vila Valério e sua idade é 23 anos\n"
          ]
        }
      ]
    },
    {
      "cell_type": "code",
      "source": [
        "from datetime import datetime, date, time, timedelta\n",
        "import pytz\n",
        "fuso_horario = pytz.timezone(\"America/Sao_Paulo\")\n",
        "data_hora_atual = datetime.now(fuso_horario)\n",
        "print(\"Data e Hora Atual:\", data_hora_atual)\n",
        "print(\"Formato padrão:\", data_hora_atual.strftime(\"%Y-%m-%d %H:%M:%S\"))\n",
        "print(\"Data por extenso:\", data_hora_atual.strftime(\"%d de %B de %Y\"))\n",
        "print(\"Hora formatada:\", data_hora_atual.strftime(\"%H:%M:%S\"))"
      ],
      "metadata": {
        "colab": {
          "base_uri": "https://localhost:8080/"
        },
        "id": "Ubme0dWUxWX6",
        "outputId": "4e244679-907c-452f-8018-8e46ccea39e8"
      },
      "execution_count": 43,
      "outputs": [
        {
          "output_type": "stream",
          "name": "stdout",
          "text": [
            "Data e Hora Atual: 2025-03-07 16:32:50.163049-03:00\n",
            "Formato padrão: 2025-03-07 16:32:50\n",
            "Data por extenso: 07 de March de 2025\n",
            "Hora formatada: 16:32:50\n"
          ]
        }
      ]
    },
    {
      "cell_type": "code",
      "source": [],
      "metadata": {
        "id": "t6TMRBH3ACek"
      },
      "execution_count": null,
      "outputs": []
    },
    {
      "cell_type": "code",
      "source": [
        "from datetime import datetime, date, time, timedelta\n",
        "import pytz\n",
        "data_hora_atual = datetime.now()\n",
        "print(\"Formato padrão:\", data_hora_atual.strftime(\"%Y-%m-%d %H:%M:%S\"))"
      ],
      "metadata": {
        "colab": {
          "base_uri": "https://localhost:8080/"
        },
        "id": "COMQqZBb85w_",
        "outputId": "a1212d54-e1e6-4f2f-e946-b10462dfc309"
      },
      "execution_count": 42,
      "outputs": [
        {
          "output_type": "stream",
          "name": "stdout",
          "text": [
            "Formato padrão: 2025-03-07 19:32:45\n"
          ]
        }
      ]
    },
    {
      "cell_type": "markdown",
      "source": [],
      "metadata": {
        "id": "bZXs7F-kAkO6"
      }
    },
    {
      "cell_type": "code",
      "source": [
        "from datetime import datetime\n",
        "data_nasc = input('Quando você nasceu? (DD/MM/YYYY)')\n",
        "data_conv= datetime.strptime(data_nasc, '%d/%m/%Y')\n",
        "hoje = datetime.now()\n",
        "idade = (hoje - data_conv).days //365\n",
        "print(f\"Você tem {idade} anos\")\n"
      ],
      "metadata": {
        "colab": {
          "base_uri": "https://localhost:8080/"
        },
        "id": "kN22Yv9YF8L-",
        "outputId": "60d3c112-c241-4d69-ce52-37e1ec697120"
      },
      "execution_count": 49,
      "outputs": [
        {
          "output_type": "stream",
          "name": "stdout",
          "text": [
            "Quando você nasceu? (DD/MM/YYYY)16/08/2001\n",
            "Você tem 23 anos\n"
          ]
        }
      ]
    },
    {
      "cell_type": "code",
      "source": [
        "from datetime import datetime, date, time, timedelta\n",
        "um_dia = timedelta(days=1)\n",
        "data_futura = input(\"evento futuro(DD/MM/YYYY)\")\n",
        "data_atual = input(\"data_atual(DD/MM/YYYY)\")\n",
        "print(\"data_atual:\", (data_hora_atual - um_dia).strftime(\"%d/%m/%Y\"))\n",
        "print(\"data_futura:\", (data_hora_atual + um_dia).strftime(\"%d/%m/%Y\"))\n",
        "data1 = datetime(\"data_futura\")\n",
        "data2 = datetime(\"data_atual\")\n",
        "diferenca = data2 - data1\n",
        "print(\"Dias entre as datas:\", diferenca.days)"
      ],
      "metadata": {
        "colab": {
          "base_uri": "https://localhost:8080/",
          "height": 280
        },
        "id": "z32J5IYTHBP4",
        "outputId": "66e4fbc8-5ce8-41bf-bed4-13e2fd9ea913"
      },
      "execution_count": 57,
      "outputs": [
        {
          "output_type": "stream",
          "name": "stdout",
          "text": [
            "evento futuro(DD/MM/YYYY)16/08/2025\n",
            "data_atual(DD/MM/YYYY)07/03/2025\n",
            "data_atual: 06/03/2025\n",
            "data_futura: 08/03/2025\n"
          ]
        },
        {
          "output_type": "error",
          "ename": "TypeError",
          "evalue": "'str' object cannot be interpreted as an integer",
          "traceback": [
            "\u001b[0;31m---------------------------------------------------------------------------\u001b[0m",
            "\u001b[0;31mTypeError\u001b[0m                                 Traceback (most recent call last)",
            "\u001b[0;32m<ipython-input-57-aed22c09596f>\u001b[0m in \u001b[0;36m<cell line: 0>\u001b[0;34m()\u001b[0m\n\u001b[1;32m      5\u001b[0m \u001b[0mprint\u001b[0m\u001b[0;34m(\u001b[0m\u001b[0;34m\"data_atual:\"\u001b[0m\u001b[0;34m,\u001b[0m \u001b[0;34m(\u001b[0m\u001b[0mdata_hora_atual\u001b[0m \u001b[0;34m-\u001b[0m \u001b[0mum_dia\u001b[0m\u001b[0;34m)\u001b[0m\u001b[0;34m.\u001b[0m\u001b[0mstrftime\u001b[0m\u001b[0;34m(\u001b[0m\u001b[0;34m\"%d/%m/%Y\"\u001b[0m\u001b[0;34m)\u001b[0m\u001b[0;34m)\u001b[0m\u001b[0;34m\u001b[0m\u001b[0;34m\u001b[0m\u001b[0m\n\u001b[1;32m      6\u001b[0m \u001b[0mprint\u001b[0m\u001b[0;34m(\u001b[0m\u001b[0;34m\"data_futura:\"\u001b[0m\u001b[0;34m,\u001b[0m \u001b[0;34m(\u001b[0m\u001b[0mdata_hora_atual\u001b[0m \u001b[0;34m+\u001b[0m \u001b[0mum_dia\u001b[0m\u001b[0;34m)\u001b[0m\u001b[0;34m.\u001b[0m\u001b[0mstrftime\u001b[0m\u001b[0;34m(\u001b[0m\u001b[0;34m\"%d/%m/%Y\"\u001b[0m\u001b[0;34m)\u001b[0m\u001b[0;34m)\u001b[0m\u001b[0;34m\u001b[0m\u001b[0;34m\u001b[0m\u001b[0m\n\u001b[0;32m----> 7\u001b[0;31m \u001b[0mdata1\u001b[0m \u001b[0;34m=\u001b[0m \u001b[0mdatetime\u001b[0m\u001b[0;34m(\u001b[0m\u001b[0;34m\"data_futura\"\u001b[0m\u001b[0;34m)\u001b[0m\u001b[0;34m\u001b[0m\u001b[0;34m\u001b[0m\u001b[0m\n\u001b[0m\u001b[1;32m      8\u001b[0m \u001b[0mdata2\u001b[0m \u001b[0;34m=\u001b[0m \u001b[0mdatetime\u001b[0m\u001b[0;34m(\u001b[0m\u001b[0;34m\"data_atual\"\u001b[0m\u001b[0;34m)\u001b[0m\u001b[0;34m\u001b[0m\u001b[0;34m\u001b[0m\u001b[0m\n\u001b[1;32m      9\u001b[0m \u001b[0mdiferenca\u001b[0m \u001b[0;34m=\u001b[0m \u001b[0mdata2\u001b[0m \u001b[0;34m-\u001b[0m \u001b[0mdata1\u001b[0m\u001b[0;34m\u001b[0m\u001b[0;34m\u001b[0m\u001b[0m\n",
            "\u001b[0;31mTypeError\u001b[0m: 'str' object cannot be interpreted as an integer"
          ]
        }
      ]
    }
  ]
}