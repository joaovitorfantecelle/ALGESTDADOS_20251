{
  "nbformat": 4,
  "nbformat_minor": 0,
  "metadata": {
    "colab": {
      "provenance": [],
      "authorship_tag": "ABX9TyNwGDvLB5H2y9dUsskHBwGJ",
      "include_colab_link": true
    },
    "kernelspec": {
      "name": "python3",
      "display_name": "Python 3"
    },
    "language_info": {
      "name": "python"
    }
  },
  "cells": [
    {
      "cell_type": "markdown",
      "metadata": {
        "id": "view-in-github",
        "colab_type": "text"
      },
      "source": [
        "<a href=\"https://colab.research.google.com/github/joaovitorfantecelle/ALGESTDADOS_20251/blob/main/Aula_1_2025.ipynb\" target=\"_parent\"><img src=\"https://colab.research.google.com/assets/colab-badge.svg\" alt=\"Open In Colab\"/></a>"
      ]
    },
    {
      "cell_type": "code",
      "execution_count": null,
      "metadata": {
        "id": "6fDp9Ut4ZrsH",
        "colab": {
          "base_uri": "https://localhost:8080/"
        },
        "outputId": "ea61d066-5cab-4877-eed1-4a60a360de5b"
      },
      "outputs": [
        {
          "output_type": "stream",
          "name": "stdout",
          "text": [
            "3570\n"
          ]
        }
      ],
      "source": [
        "#Soma de dois números conhecidos em Phyton\n",
        "num1 = 1930\n",
        "num2 = 1640\n",
        "resultado = num1 + num2\n",
        "print(resultado)\n"
      ]
    },
    {
      "cell_type": "code",
      "execution_count": null,
      "metadata": {
        "colab": {
          "base_uri": "https://localhost:8080/"
        },
        "outputId": "f9825026-9e8b-4b27-9d91-107e43c7264e",
        "id": "D-d9HAjywsfM"
      },
      "outputs": [
        {
          "output_type": "stream",
          "name": "stdout",
          "text": [
            "digite o primeiro número:1\n",
            "digite o segundo número:2\n",
            "3\n"
          ]
        }
      ],
      "source": [
        "#Soma de dois números desconhecidos em Phyton\n",
        "num1 = int(input('digite o primeiro número:'))\n",
        "num2 = int(input('digite o segundo número:'))\n",
        "resultado = num1 + num2\n",
        "print(resultado)"
      ]
    }
  ]
}