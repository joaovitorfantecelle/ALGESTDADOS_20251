{
  "nbformat": 4,
  "nbformat_minor": 0,
  "metadata": {
    "colab": {
      "provenance": [],
      "authorship_tag": "ABX9TyN0+yM4TcZNfPmmVInLOJH4",
      "include_colab_link": true
    },
    "kernelspec": {
      "name": "python3",
      "display_name": "Python 3"
    },
    "language_info": {
      "name": "python"
    }
  },
  "cells": [
    {
      "cell_type": "markdown",
      "metadata": {
        "id": "view-in-github",
        "colab_type": "text"
      },
      "source": [
        "<a href=\"https://colab.research.google.com/github/joaovitorfantecelle/ALGESTDADOS_20251/blob/main/pontoextra15_05.ipynb\" target=\"_parent\"><img src=\"https://colab.research.google.com/assets/colab-badge.svg\" alt=\"Open In Colab\"/></a>"
      ]
    },
    {
      "cell_type": "code",
      "execution_count": 1,
      "metadata": {
        "colab": {
          "base_uri": "https://localhost:8080/"
        },
        "id": "j1TER0Ou2ynn",
        "outputId": "02ced085-7094-4970-c8e4-67744bde768b"
      },
      "outputs": [
        {
          "output_type": "stream",
          "name": "stdout",
          "text": [
            "ano_atual: 2025\n"
          ]
        }
      ],
      "source": [
        "from datetime import datetime\n",
        "ano_atual = datetime.now().year\n",
        "print('ano_atual:', ano_atual)"
      ]
    },
    {
      "cell_type": "code",
      "source": [
        "for i in range(1, 11):\n",
        "  if i % 3 == 0:\n",
        "    continue\n",
        "  print(i)"
      ],
      "metadata": {
        "colab": {
          "base_uri": "https://localhost:8080/"
        },
        "id": "2TOjAcZ03b3q",
        "outputId": "44afdcb0-651d-4b5d-ce9d-7f84cb5b7e19"
      },
      "execution_count": 11,
      "outputs": [
        {
          "output_type": "stream",
          "name": "stdout",
          "text": [
            "1\n",
            "2\n",
            "4\n",
            "5\n",
            "7\n",
            "8\n",
            "10\n"
          ]
        }
      ]
    },
    {
      "cell_type": "code",
      "source": [
        "frase = input('digite uma frase: ')\n",
        "if len(frase) > 10:\n",
        "  print('Quantidade de caracteres:', len(frase))"
      ],
      "metadata": {
        "colab": {
          "base_uri": "https://localhost:8080/"
        },
        "id": "ytpZSv2P4Dnz",
        "outputId": "bd6d7c47-09ae-45cb-d3a1-88b5deadd60b"
      },
      "execution_count": 13,
      "outputs": [
        {
          "output_type": "stream",
          "name": "stdout",
          "text": [
            "digite uma frase: vou jogar bola\n",
            "Quantidade de caracteres: 14\n"
          ]
        }
      ]
    },
    {
      "cell_type": "code",
      "source": [
        "pote_a = input('digite um número: ')\n",
        "pote_b = input('digite outro número: ')\n",
        "\n",
        "pote_c = pote_a\n",
        "pote_a = pote_b\n",
        "pote_b = pote_c\n",
        "print('pote_a agora é:', pote_a)\n",
        "print('pote_b agora é:', pote_b)"
      ],
      "metadata": {
        "colab": {
          "base_uri": "https://localhost:8080/"
        },
        "id": "pBXoZeAT5kE7",
        "outputId": "0d3f377b-f53b-4485-c6b3-32cb5e0218a3"
      },
      "execution_count": 24,
      "outputs": [
        {
          "output_type": "stream",
          "name": "stdout",
          "text": [
            "digite um número: 4\n",
            "digite outro número: 5\n",
            "pote_a agora é: 5\n",
            "pote_b agora é: 4\n"
          ]
        }
      ]
    }
  ]
}