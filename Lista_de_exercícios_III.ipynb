{
  "nbformat": 4,
  "nbformat_minor": 0,
  "metadata": {
    "colab": {
      "provenance": [],
      "include_colab_link": true
    },
    "kernelspec": {
      "name": "python3",
      "display_name": "Python 3"
    },
    "language_info": {
      "name": "python"
    }
  },
  "cells": [
    {
      "cell_type": "markdown",
      "metadata": {
        "id": "view-in-github",
        "colab_type": "text"
      },
      "source": [
        "<a href=\"https://colab.research.google.com/github/joaovitorfantecelle/ALGESTDADOS_20251/blob/main/Lista_de_exerc%C3%ADcios_III.ipynb\" target=\"_parent\"><img src=\"https://colab.research.google.com/assets/colab-badge.svg\" alt=\"Open In Colab\"/></a>"
      ]
    },
    {
      "cell_type": "markdown",
      "source": [
        "Victor Gabriel 1-15 // João Vitor 16-30\n"
      ],
      "metadata": {
        "id": "0hl0JRD7dlfZ"
      }
    },
    {
      "cell_type": "markdown",
      "source": [],
      "metadata": {
        "id": "akpEHzMeCQPN"
      }
    },
    {
      "cell_type": "code",
      "source": [
        "#1\n",
        "l = []\n",
        "for i in range(15):\n",
        "    num = int(input())\n",
        "    l.append(num)\n",
        "l2 = []\n",
        "for num in l:\n",
        "    if num not in l2:\n",
        "        l2.append(num)\n",
        "print(l2)"
      ],
      "metadata": {
        "colab": {
          "base_uri": "https://localhost:8080/"
        },
        "id": "c1-vPs1Ad1lJ",
        "outputId": "8b78df01-8e58-4e68-d377-232e85909f0f"
      },
      "execution_count": null,
      "outputs": [
        {
          "output_type": "stream",
          "name": "stdout",
          "text": [
            "1\n",
            "2\n",
            "3\n",
            "4\n",
            "5\n",
            "5\n",
            "1\n",
            "2\n",
            "3\n",
            "4\n",
            "6\n",
            "5\n",
            "4\n",
            "1\n",
            "10\n",
            "[1, 2, 3, 4, 5, 6, 10]\n"
          ]
        }
      ]
    },
    {
      "cell_type": "code",
      "source": [
        "#2\n",
        "n = []\n",
        "i = []\n",
        "for _ in range(10):\n",
        "    n.append(input())\n",
        "    i.append(int(input()))\n",
        "m = max(i)\n",
        "p = i.index(m)\n",
        "print ('maior idade é:')\n",
        "print(n[p])"
      ],
      "metadata": {
        "colab": {
          "base_uri": "https://localhost:8080/"
        },
        "id": "lP_QQ_pqh1Qu",
        "outputId": "cb0f78a6-745f-424e-ccaa-0cba4d0c2a7d"
      },
      "execution_count": null,
      "outputs": [
        {
          "output_type": "stream",
          "name": "stdout",
          "text": [
            "o\n",
            "1\n",
            "victor \n",
            "18\n",
            "i\n",
            "2\n",
            "p\n",
            "3\n",
            "l\n",
            "4\n",
            "i\n",
            "5\n",
            "negativo\n",
            "-99\n",
            "ç\n",
            "5\n",
            "sim\n",
            "1\n",
            "nao\n",
            "1\n",
            "maior idade é:\n",
            "victor \n"
          ]
        }
      ]
    },
    {
      "cell_type": "code",
      "source": [
        "#3\n",
        "l = []\n",
        "for _ in range(10):\n",
        "    l.append(int(input()))\n",
        "for i in range(10):\n",
        "    l[i] = l[i] / 3 if l[i] % 2 else l[i] / 2\n",
        "print ('dividindo os números: ')\n",
        "print(l)"
      ],
      "metadata": {
        "colab": {
          "base_uri": "https://localhost:8080/"
        },
        "id": "FThKd3NJi2K1",
        "outputId": "5fba55dc-9e7c-4e9a-9a31-fceaeb668347"
      },
      "execution_count": null,
      "outputs": [
        {
          "output_type": "stream",
          "name": "stdout",
          "text": [
            "1\n",
            "2\n",
            "3\n",
            "4\n",
            "5\n",
            "6\n",
            "7\n",
            "8\n",
            "9\n",
            "10\n",
            "dividindo os números: \n",
            "[0.3333333333333333, 1.0, 1.0, 2.0, 1.6666666666666667, 3.0, 2.3333333333333335, 4.0, 3.0, 5.0]\n"
          ]
        }
      ]
    },
    {
      "cell_type": "code",
      "source": [
        "#4\n",
        "f = input().split()\n",
        "v = ['a', 'e', 'i', 'o', 'u']\n",
        "r = [p for p in f if p[0].lower() in v]\n",
        "print('as palavras que começam com vogal: ')\n",
        "print(r)"
      ],
      "metadata": {
        "colab": {
          "base_uri": "https://localhost:8080/"
        },
        "id": "HWcIhfcijZ5n",
        "outputId": "105469ce-55b5-48af-cec1-7e5d60b37495"
      },
      "execution_count": null,
      "outputs": [
        {
          "output_type": "stream",
          "name": "stdout",
          "text": [
            "essa é a questão 4\n",
            "as palavras que começam com vogal: \n",
            "['essa', 'a']\n"
          ]
        }
      ]
    },
    {
      "cell_type": "code",
      "source": [
        "#5\n",
        "l = []\n",
        "for _ in range(10):\n",
        "    l.append(int(input()))\n",
        "p = []\n",
        "for n in l:\n",
        "    if n > 1:\n",
        "        eh = True\n",
        "        for d in range(2, int(n**0.5)+1):\n",
        "            if n % d == 0:\n",
        "                eh = False\n",
        "                break\n",
        "        if eh:\n",
        "            p.append(n)\n",
        "print('os numeros primos: ')\n",
        "print(p)"
      ],
      "metadata": {
        "colab": {
          "base_uri": "https://localhost:8080/"
        },
        "id": "6gKTMX31ktTm",
        "outputId": "ac166cab-86fa-4ade-c41e-4e7871cf49d6"
      },
      "execution_count": null,
      "outputs": [
        {
          "output_type": "stream",
          "name": "stdout",
          "text": [
            "1\n",
            "2\n",
            "3\n",
            "4\n",
            "5\n",
            "6\n",
            "7\n",
            "8\n",
            "9\n",
            "10\n",
            "os numeros primos: \n",
            "[2, 3, 5, 7]\n"
          ]
        }
      ]
    },
    {
      "cell_type": "code",
      "source": [
        "#6\n",
        "l = []\n",
        "for i in range(8):\n",
        "    l.append(input())\n",
        "print('é palindroma? ')\n",
        "print(l == l[::-1])"
      ],
      "metadata": {
        "id": "9mokXgDpk6_4",
        "colab": {
          "base_uri": "https://localhost:8080/"
        },
        "outputId": "0fdd8126-66d2-4b95-f458-2121e1537c0a"
      },
      "execution_count": null,
      "outputs": [
        {
          "output_type": "stream",
          "name": "stdout",
          "text": [
            "1\n",
            "2\n",
            "1\n",
            "1\n",
            "2\n",
            "1\n",
            "2\n",
            "1\n",
            "é palindroma? \n",
            "False\n"
          ]
        }
      ]
    },
    {
      "cell_type": "code",
      "source": [
        "#7\n",
        "print('os 8 primeiros numeros é da lista a e os 8 ultimos da lista b ')\n",
        "a = []\n",
        "b = []\n",
        "for i in range(10):\n",
        "    a.append(int(input()))\n",
        "for i in range(10):\n",
        "    b.append(int(input()))\n",
        "c = []\n",
        "for n in a:\n",
        "    if n in b and n not in c:\n",
        "        c.append(n)\n",
        "print(\"a interseção é: \")\n",
        "print(c)"
      ],
      "metadata": {
        "colab": {
          "base_uri": "https://localhost:8080/"
        },
        "id": "Tw0lpFg-m7LT",
        "outputId": "667cba5d-f977-4e70-d01e-452c9cb4a136"
      },
      "execution_count": null,
      "outputs": [
        {
          "output_type": "stream",
          "name": "stdout",
          "text": [
            "os 8 primeiros numeros é da lista a e os 8 ultimos da lista b \n",
            "1\n",
            "2\n",
            "3\n",
            "4\n",
            "5\n",
            "6\n",
            "7\n",
            "8\n",
            "0\n",
            "9\n",
            "8\n",
            "6\n",
            "5\n",
            "4\n",
            "3\n",
            "2\n",
            "1\n",
            "33\n",
            "44\n",
            "55\n",
            "a interseção é: \n",
            "[1, 2, 3, 4, 5, 6, 8]\n"
          ]
        }
      ]
    },
    {
      "cell_type": "code",
      "source": [
        "#8\n",
        "l = []\n",
        "while len(l) < 6:\n",
        "    n = int(input())\n",
        "    if 1 <= n <= 60 and n not in l:\n",
        "        l.append(n)7\n",
        "print('os numeros sorteados: ')\n",
        "print(l)"
      ],
      "metadata": {
        "colab": {
          "base_uri": "https://localhost:8080/"
        },
        "id": "fDdH7qYIoHp2",
        "outputId": "59605478-86b6-4006-d52e-4c6a220d7be9"
      },
      "execution_count": null,
      "outputs": [
        {
          "output_type": "stream",
          "name": "stdout",
          "text": [
            "2\n",
            "2\n",
            "2\n",
            "1\n",
            "3\n",
            "4\n",
            "5\n",
            "6\n",
            "os numeros sorteados: \n",
            "[2, 1, 3, 4, 5, 6]\n"
          ]
        }
      ]
    },
    {
      "cell_type": "code",
      "source": [
        "#9\n",
        "o = []\n",
        "for i in range(10):\n",
        "    o.append(int(input()))\n",
        "n = []\n",
        "s = 0\n",
        "for x in o:\n",
        "    n.append(s)\n",
        "    s += x\n",
        "print('a somas de todos os items anteriores: ')\n",
        "print(n)"
      ],
      "metadata": {
        "colab": {
          "base_uri": "https://localhost:8080/"
        },
        "id": "-PU_bRY_pgsT",
        "outputId": "a3cf988f-1e16-475f-ec0c-b9e56f8d8e72"
      },
      "execution_count": null,
      "outputs": [
        {
          "output_type": "stream",
          "name": "stdout",
          "text": [
            "1\n",
            "2\n",
            "3\n",
            "4\n",
            "5\n",
            "7\n",
            "6\n",
            "8\n",
            "9\n",
            "10\n",
            "a somas de todos os items anteriores: \n",
            "[0, 1, 3, 6, 10, 15, 22, 28, 36, 45]\n"
          ]
        }
      ]
    },
    {
      "cell_type": "code",
      "source": [
        "#10\n",
        "l = []\n",
        "for i in range(10):\n",
        "    l.append(input())\n",
        "l = [n for n in l if len(n) <= 10]\n",
        "print('a frase sem palavras com mais de 10 caracteres: ')\n",
        "print(l)"
      ],
      "metadata": {
        "colab": {
          "base_uri": "https://localhost:8080/"
        },
        "id": "lGzW2nG0qrAq",
        "outputId": "3cac1f4a-9f0c-4d4f-e716-d30987fc945a"
      },
      "execution_count": null,
      "outputs": [
        {
          "output_type": "stream",
          "name": "stdout",
          "text": [
            "ele\n",
            "é\n",
            "otorrinolaringologista\n",
            "médico\n",
            "de \n",
            "plantão\n",
            "das\n",
            "seis\n",
            "a\n",
            "seis\n",
            "a frase sem palavras com mais de 10 caracteres: \n",
            "['ele', 'é', 'médico', 'de ', 'plantão', 'das', 'seis', 'a', 'seis']\n"
          ]
        }
      ]
    },
    {
      "cell_type": "code",
      "source": [
        "#11\n",
        "m = []\n",
        "for i in range(4):\n",
        "    linha = []\n",
        "    for j in range(4):\n",
        "        linha.append(int(input()))\n",
        "    m.append(linha)\n",
        "s = 0\n",
        "for i in range(4):\n",
        "    s += m[i][3 - i]\n",
        "print('a soma da diagonal: ')\n",
        "print(s)"
      ],
      "metadata": {
        "colab": {
          "base_uri": "https://localhost:8080/"
        },
        "id": "t7VJW_CBr2Db",
        "outputId": "e73e9008-7bf1-4cf6-a30e-cbf58348b9fa"
      },
      "execution_count": null,
      "outputs": [
        {
          "output_type": "stream",
          "name": "stdout",
          "text": [
            "1\n",
            "1\n",
            "1\n",
            "1\n",
            "1\n",
            "1\n",
            "1\n",
            "1\n",
            "1\n",
            "1\n",
            "1\n",
            "1\n",
            "1\n",
            "1\n",
            "1\n",
            "1\n",
            "a soma da diagonal: \n",
            "4\n"
          ]
        }
      ]
    },
    {
      "cell_type": "code",
      "source": [
        "#12\n",
        "m = []\n",
        "for i in range(5):\n",
        "    l = []\n",
        "    for j in range(5):\n",
        "        l.append(int(input()))\n",
        "    m.append(l)\n",
        "r = [sum(l)/5 for l in m]\n",
        "for l in m:\n",
        "    print(l)\n",
        "print('a media: ')\n",
        "print(r)"
      ],
      "metadata": {
        "colab": {
          "base_uri": "https://localhost:8080/"
        },
        "id": "VIn_63ersbel",
        "outputId": "fe8a092c-4c25-48ab-e95f-a517e3ca4b54"
      },
      "execution_count": null,
      "outputs": [
        {
          "output_type": "stream",
          "name": "stdout",
          "text": [
            "10\n",
            "20\n",
            "30\n",
            "40\n",
            "50\n",
            "60\n",
            "70\n",
            "80\n",
            "90\n",
            "10\n",
            "20\n",
            "30\n",
            "40\n",
            "50\n",
            "60\n",
            "70\n",
            "80\n",
            "90\n",
            "10\n",
            "20\n",
            "30\n",
            "40\n",
            "50\n",
            "60\n",
            "70\n",
            "[10, 20, 30, 40, 50]\n",
            "[60, 70, 80, 90, 10]\n",
            "[20, 30, 40, 50, 60]\n",
            "[70, 80, 90, 10, 20]\n",
            "[30, 40, 50, 60, 70]\n",
            "a media: \n",
            "[30.0, 62.0, 40.0, 54.0, 50.0]\n"
          ]
        }
      ]
    },
    {
      "cell_type": "code",
      "source": [
        "#13\n",
        "m = []\n",
        "for i in range(3):\n",
        "    l = []\n",
        "    for j in range(3):\n",
        "        l.append(int(input()))\n",
        "    m.append(l)\n",
        "id = True\n",
        "for i in range(3):\n",
        "    for j in range(3):\n",
        "        if (i == j and m[i][j] != 1) or (i != j and m[i][j] != 0):\n",
        "            id = False\n",
        "            break\n",
        "for l in m:\n",
        "    print(l)\n",
        "print(id)"
      ],
      "metadata": {
        "colab": {
          "base_uri": "https://localhost:8080/"
        },
        "id": "ScLFrgxUux2_",
        "outputId": "9cf21333-7a00-482d-a72c-66ebda6a1e83"
      },
      "execution_count": null,
      "outputs": [
        {
          "output_type": "stream",
          "name": "stdout",
          "text": [
            "1\n",
            "0\n",
            "0\n",
            "0\n",
            "1\n",
            "0\n",
            "0\n",
            "0\n",
            "1\n",
            "[1, 0, 0]\n",
            "[0, 1, 0]\n",
            "[0, 0, 1]\n",
            "True\n"
          ]
        }
      ]
    },
    {
      "cell_type": "code",
      "source": [
        "#14\n",
        "m = []\n",
        "for i in range(3):\n",
        "    l = []\n",
        "    for j in range(3):\n",
        "        l.append(int(input()))\n",
        "    m.append(l)\n",
        "s = True\n",
        "for i in range(3):\n",
        "    for j in range(3):\n",
        "        if m[i][j] != m[j][i]:\n",
        "            s = False\n",
        "            break\n",
        "print('é simetrica?? ')\n",
        "print(s)"
      ],
      "metadata": {
        "colab": {
          "base_uri": "https://localhost:8080/"
        },
        "id": "428S-9PUwYIW",
        "outputId": "8223d3f9-0a97-4bef-c39f-be966a8d52c1"
      },
      "execution_count": null,
      "outputs": [
        {
          "output_type": "stream",
          "name": "stdout",
          "text": [
            "1\n",
            "1\n",
            "1\n",
            "1\n",
            "1\n",
            "1\n",
            "1\n",
            "1\n",
            "1\n",
            "é simetrica?? \n",
            "True\n"
          ]
        }
      ]
    },
    {
      "cell_type": "code",
      "source": [
        "#15\n",
        "m = []\n",
        "for i in range(5):\n",
        "    l = []\n",
        "    for j in range(3):\n",
        "        l.append(i * j)\n",
        "    m.append(l)\n",
        "for l in m:\n",
        "    print(l)"
      ],
      "metadata": {
        "colab": {
          "base_uri": "https://localhost:8080/"
        },
        "id": "MpLEzwZIwy-N",
        "outputId": "87dd51ab-08ef-4d2e-97c7-f32b9d2e1649"
      },
      "execution_count": null,
      "outputs": [
        {
          "output_type": "stream",
          "name": "stdout",
          "text": [
            "[0, 0, 0]\n",
            "[0, 1, 2]\n",
            "[0, 2, 4]\n",
            "[0, 3, 6]\n",
            "[0, 4, 8]\n"
          ]
        }
      ]
    },
    {
      "cell_type": "code",
      "source": [
        "#16\n",
        "matriz = []\n",
        "for i in range(4):\n",
        "    linha = []\n",
        "    for j in range(4):\n",
        "        valor = int(input(f\"Digite o valor para a posição [{i}][{j}]: \"))\n",
        "        linha.append(valor)\n",
        "    matriz.append(linha)\n",
        "\n",
        "menores_colunas = []\n",
        "for col in range(4):\n",
        "    menor = matriz[0][col]\n",
        "    for lin in range(1, 4):\n",
        "        if matriz[lin][col] < menor:\n",
        "            menor = matriz[lin][col]\n",
        "    menores_colunas.append(menor)\n",
        "\n",
        "print(\"Matriz 4x4:\")\n",
        "for linha in matriz:\n",
        "    print(linha)\n",
        "\n",
        "print(\"Menor valor de cada coluna:\")\n",
        "print(menores_colunas)"
      ],
      "metadata": {
        "colab": {
          "base_uri": "https://localhost:8080/"
        },
        "id": "WkR2M78liTd6",
        "outputId": "9176bc5b-2cb0-4ddc-a2b9-ad9094eb447e"
      },
      "execution_count": null,
      "outputs": [
        {
          "output_type": "stream",
          "name": "stdout",
          "text": [
            "Digite o valor para a posição [0][0]: 1\n",
            "Digite o valor para a posição [0][1]: 2\n",
            "Digite o valor para a posição [0][2]: 3\n",
            "Digite o valor para a posição [0][3]: 4\n",
            "Digite o valor para a posição [1][0]: 5\n",
            "Digite o valor para a posição [1][1]: 6\n",
            "Digite o valor para a posição [1][2]: 7\n",
            "Digite o valor para a posição [1][3]: 8\n",
            "Digite o valor para a posição [2][0]: 9\n",
            "Digite o valor para a posição [2][1]: 10\n",
            "Digite o valor para a posição [2][2]: 11\n",
            "Digite o valor para a posição [2][3]: 12\n",
            "Digite o valor para a posição [3][0]: 13\n",
            "Digite o valor para a posição [3][1]: 14\n",
            "Digite o valor para a posição [3][2]: 15\n",
            "Digite o valor para a posição [3][3]: 16\n",
            "Matriz 4x4:\n",
            "[1, 2, 3, 4]\n",
            "[5, 6, 7, 8]\n",
            "[9, 10, 11, 12]\n",
            "[13, 14, 15, 16]\n",
            "Menor valor de cada coluna:\n",
            "[1, 2, 3, 4]\n"
          ]
        }
      ]
    },
    {
      "cell_type": "code",
      "source": [
        "#17\n",
        "matriz = []\n",
        "for i in range(3):\n",
        "    linha = []\n",
        "    for j in range(3):\n",
        "        valor = float(input(f\"Digite o valor da posição [{i}][{j}]: \"))\n",
        "        linha.append(valor)\n",
        "    matriz.append(linha)\n",
        "a = matriz[0][0]\n",
        "b = matriz[0][1]\n",
        "c = matriz[0][2]\n",
        "d = matriz[1][0]\n",
        "e = matriz[1][1]\n",
        "f = matriz[1][2]\n",
        "g = matriz[2][0]\n",
        "h = matriz[2][1]\n",
        "i = matriz[2][2]\n",
        "\n",
        "determinante = a*(e*i - f*h) - b*(d*i - f*g) + c*(d*h - e*g)\n",
        "\n",
        "print(\"Determinante:\", determinante)\n",
        "1"
      ],
      "metadata": {
        "colab": {
          "base_uri": "https://localhost:8080/"
        },
        "id": "1c169GIYix7G",
        "outputId": "8be7af72-e683-4ec8-c9ba-028343136c7a"
      },
      "execution_count": null,
      "outputs": [
        {
          "output_type": "stream",
          "name": "stdout",
          "text": [
            "Digite o valor da posição [0][0]: 1\n",
            "Digite o valor da posição [0][1]: 23\n",
            "Digite o valor da posição [0][2]: 3\n",
            "Digite o valor da posição [1][0]: 4\n",
            "Digite o valor da posição [1][1]: 5\n",
            "Digite o valor da posição [1][2]: 6\n",
            "Digite o valor da posição [2][0]: 7\n",
            "Digite o valor da posição [2][1]: 8\n",
            "Digite o valor da posição [2][2]: 9\n",
            "Determinante: 126.0\n"
          ]
        }
      ]
    },
    {
      "cell_type": "code",
      "source": [
        "#18\n",
        "def ler_matriz(nome):\n",
        "    return [[float(input(f\"{nome}[{i}][{j}]: \")) for j in range(3)] for i in range(3)]\n",
        "\n",
        "matriz1 = ler_matriz(\"Matriz1\")\n",
        "matriz2 = ler_matriz(\"Matriz2\")\n",
        "\n",
        "soma = [[matriz1[i][j] + matriz2[i][j] for j in range(3)] for i in range(3)]\n",
        "diferenca = [[matriz1[i][j] - matriz2[i][j] for j in range(3)] for i in range(3)]\n",
        "\n",
        "\n",
        "print(\"4Matriz Soma:\")\n",
        "for linha in soma:\n",
        "    print(linha)\n",
        "\n",
        "print(\"Matriz Diferença:\")\n",
        "for linha in diferenca:\n",
        "    print(linha)"
      ],
      "metadata": {
        "colab": {
          "base_uri": "https://localhost:8080/"
        },
        "id": "viSzqlsu4MGx",
        "outputId": "10435add-c27c-43a1-8b9b-ec25a58bd137"
      },
      "execution_count": 35,
      "outputs": [
        {
          "output_type": "stream",
          "name": "stdout",
          "text": [
            "Matriz1[0][0]: 1\n",
            "Matriz1[0][1]: 2\n",
            "Matriz1[0][2]: 3\n",
            "Matriz1[1][0]: 45\n",
            "Matriz1[1][1]: 5\n",
            "Matriz1[1][2]: 64\n",
            "Matriz1[2][0]: 64\n",
            "Matriz1[2][1]: 1\n",
            "Matriz1[2][2]: 2\n",
            "Matriz2[0][0]: 241\n",
            "Matriz2[0][1]: 12\n",
            "Matriz2[0][2]: 12\n",
            "Matriz2[1][0]: 4\n",
            "Matriz2[1][1]: 7\n",
            "Matriz2[1][2]: 5\n",
            "Matriz2[2][0]: 6\n",
            "Matriz2[2][1]: 8\n",
            "Matriz2[2][2]: 7\n",
            "Matriz Soma:\n",
            "[242.0, 14.0, 15.0]\n",
            "[49.0, 12.0, 69.0]\n",
            "[70.0, 9.0, 9.0]\n",
            "Matriz Diferença:\n",
            "[-240.0, -10.0, -9.0]\n",
            "[41.0, -2.0, 59.0]\n",
            "[58.0, -7.0, -5.0]\n"
          ]
        }
      ]
    },
    {
      "cell_type": "code",
      "source": [
        "#19\n",
        "print(\"Digite 10 elementos para o conjunto A:\")\n",
        "conjunto_a = set()\n",
        "for i in range(10):\n",
        "    elemento = input(f\"Elemento {i+1} de A: \")\n",
        "    conjunto_a.add(elemento)\n",
        "\n",
        "print(\"\\nDigite 10 elementos para o conjunto B:\")\n",
        "conjunto_b = set()\n",
        "for i in range(10):\n",
        "    elemento = input(f\"Elemento {i+1} de B: \")\n",
        "    conjunto_b.add(elemento)\n",
        "\n",
        "intersecao = conjunto_a & conjunto_b\n",
        "uniao = conjunto_a | conjunto_b\n",
        "diferenca_a_b = conjunto_a - conjunto_b\n",
        "diferenca_b_a = conjunto_b - conjunto_a\n",
        "\n",
        "print(\"Interseção (A ∩ B):\", intersecao)\n",
        "print(\"União (A ∪ B):\", uniao)\n",
        "print(\"Diferença (A - B):\", diferenca_a_b)\n",
        "print(\"Diferença (B - A):\", diferenca_b_a)"
      ],
      "metadata": {
        "colab": {
          "base_uri": "https://localhost:8080/"
        },
        "id": "BUP3ilPK4gmR",
        "outputId": "1b832936-add5-4c8b-cad9-2e1f2371a571"
      },
      "execution_count": 44,
      "outputs": [
        {
          "output_type": "stream",
          "name": "stdout",
          "text": [
            "Digite 10 elementos para o conjunto A:\n",
            "Elemento 1 de A: 1\n",
            "Elemento 2 de A: 2\n",
            "Elemento 3 de A: 3\n",
            "Elemento 4 de A: 4\n",
            "Elemento 5 de A: 5\n",
            "Elemento 6 de A: 6\n",
            "Elemento 7 de A: 7\n",
            "Elemento 8 de A: 8\n",
            "Elemento 9 de A: 9\n",
            "Elemento 10 de A: 10\n",
            "\n",
            "Digite 10 elementos para o conjunto B:\n",
            "Elemento 1 de B: 10\n",
            "Elemento 2 de B: 11\n",
            "Elemento 3 de B: 12\n",
            "Elemento 4 de B: 13\n",
            "Elemento 5 de B: 14\n",
            "Elemento 6 de B: 15\n",
            "Elemento 7 de B: 16\n",
            "Elemento 8 de B: 17\n",
            "Elemento 9 de B: 18\n",
            "Elemento 10 de B: 19\n",
            "\n",
            "Interseção (A ∩ B): {'10'}\n",
            "União (A ∪ B): {'4', '19', '13', '10', '12', '7', '18', '5', '1', '8', '9', '11', '15', '3', '16', '14', '2', '17', '6'}\n",
            "Diferença (A - B): {'8', '1', '9', '4', '3', '7', '2', '5', '6'}\n",
            "Diferença (B - A): {'19', '11', '13', '15', '12', '16', '14', '17', '18'}\n"
          ]
        }
      ]
    },
    {
      "cell_type": "code",
      "source": [
        "#20\n",
        "frase = input(\"Digite uma frase: \")\n",
        "letras = {c.lower() for c in frase if c.isalpha()}\n",
        "print(\"Letras usadas:\", letras)"
      ],
      "metadata": {
        "colab": {
          "base_uri": "https://localhost:8080/"
        },
        "id": "zNXOfqYH9-Fw",
        "outputId": "993418c3-bca4-446c-9dc9-b716a9fb35cd"
      },
      "execution_count": null,
      "outputs": [
        {
          "output_type": "stream",
          "name": "stdout",
          "text": [
            "Digite uma frase: vou jogar bola\n",
            "Letras usadas: {'r', 'b', 'v', 'a', 'g', 'l', 'u', 'j', 'o'}\n"
          ]
        }
      ]
    },
    {
      "cell_type": "code",
      "source": [
        "#21\n",
        "numeros = {x for x in range(1, 101) if x % 2 != 0 and x % 3 != 0}\n",
        "print(numeros)"
      ],
      "metadata": {
        "colab": {
          "base_uri": "https://localhost:8080/"
        },
        "id": "dLJVvZdY-AsQ",
        "outputId": "120d6a23-1a1d-4d51-989b-7b8e67cc47f3"
      },
      "execution_count": null,
      "outputs": [
        {
          "output_type": "stream",
          "name": "stdout",
          "text": [
            "{1, 5, 7, 11, 13, 17, 19, 23, 25, 29, 31, 35, 37, 41, 43, 47, 49, 53, 55, 59, 61, 65, 67, 71, 73, 77, 79, 83, 85, 89, 91, 95, 97}\n"
          ]
        }
      ]
    },
    {
      "cell_type": "code",
      "source": [
        "#22\n",
        "palavras = {input(f\"Palavra {i+1}: \") for i in range(10)}\n",
        "longas = {p for p in palavras if len(p) > 5}\n",
        "print(\"Palavras com mais de 5 letras:\", longas)"
      ],
      "metadata": {
        "colab": {
          "base_uri": "https://localhost:8080/"
        },
        "id": "BXuMWfiS-CMY",
        "outputId": "70bf1fee-17f9-45ac-ca47-3f42d4cffb01"
      },
      "execution_count": null,
      "outputs": [
        {
          "output_type": "stream",
          "name": "stdout",
          "text": [
            "Palavra 1: bola\n",
            "Palavra 2: futebol\n",
            "Palavra 3: computador\n",
            "Palavra 4: valorant\n",
            "Palavra 5: celular\n",
            "Palavra 6: durex\n",
            "Palavra 7: garrafa\n",
            "Palavra 8: fone\n",
            "Palavra 9: teclado\n",
            "Palavra 10: monitor\n",
            "Palavras com mais de 5 letras: {'celular', 'futebol', 'garrafa', 'valorant', 'monitor', 'computador', 'teclado'}\n"
          ]
        }
      ]
    },
    {
      "cell_type": "code",
      "source": [
        "#23\n",
        "A = set(map(int, input(\"Conjunto A (inteiros): \").split()))\n",
        "B = set(map(int, input(\"Conjunto B (inteiros): \").split()))\n",
        "\n",
        "print(\"A é subconjunto de B?\", A <= B)\n",
        "print(\"B é subconjunto de A?\", B <= A)"
      ],
      "metadata": {
        "colab": {
          "base_uri": "https://localhost:8080/"
        },
        "id": "xkxAGhVz-CIh",
        "outputId": "f34a0b1f-b9b3-496f-9c23-90cdf0d1f744"
      },
      "execution_count": null,
      "outputs": [
        {
          "output_type": "stream",
          "name": "stdout",
          "text": [
            "Conjunto A (inteiros): 1234\n",
            "Conjunto B (inteiros): 1234\n",
            "A é subconjunto de B? True\n",
            "B é subconjunto de A? True\n"
          ]
        }
      ]
    },
    {
      "cell_type": "code",
      "source": [
        "#24\n",
        "import math\n",
        "\n",
        "numeros = set(map(int, input(\"Digite números inteiros: \").split()))\n",
        "quadrados = {n for n in numeros if math.isqrt(n)**2 == n}\n",
        "print(\"Quadrados perfeitos:\", quadrados)"
      ],
      "metadata": {
        "colab": {
          "base_uri": "https://localhost:8080/"
        },
        "id": "z_ax8j8i-CFB",
        "outputId": "4f31aa5a-13be-49f6-974a-e58b1e5ecb9d"
      },
      "execution_count": null,
      "outputs": [
        {
          "output_type": "stream",
          "name": "stdout",
          "text": [
            "Digite números inteiros: 9 10 12 14 16 18\n",
            "Quadrados perfeitos: {16, 9}\n"
          ]
        }
      ]
    },
    {
      "cell_type": "code",
      "source": [
        "#25\n",
        "funcionarios = {}\n",
        "for _ in range(5):\n",
        "    nome = input(\"Nome do funcionário: \")\n",
        "    salario = float(input(\"Salário: R$ \"))\n",
        "    if salario < 2000:\n",
        "        salario *= 1.10\n",
        "    funcionarios[nome] = round(salario, 2)\n",
        "\n",
        "print(\"Salários atualizados:\", funcionarios)"
      ],
      "metadata": {
        "colab": {
          "base_uri": "https://localhost:8080/"
        },
        "id": "lXYywHp--CCA",
        "outputId": "13ce3dc7-8643-4a50-bb90-b8afe775ecc3"
      },
      "execution_count": null,
      "outputs": [
        {
          "output_type": "stream",
          "name": "stdout",
          "text": [
            "Nome do funcionário: joao \n",
            "Salário: R$ 2000\n",
            "Nome do funcionário: vitor\n",
            "Salário: R$ 2500\n",
            "Nome do funcionário: murilo\n",
            "Salário: R$ 1500\n",
            "Nome do funcionário: david\n",
            "Salário: R$ 1000\n",
            "Nome do funcionário: pacheco\n",
            "Salário: R$ 800\n",
            "Salários atualizados: {'joao ': 2000.0, 'vitor': 2500.0, 'murilo': 1650.0, 'david': 1100.0, 'pacheco': 880.0}\n"
          ]
        }
      ]
    },
    {
      "cell_type": "code",
      "source": [
        "#26\n",
        "alunos = {}\n",
        "for _ in range(5):\n",
        "    nome = input(\"Nome do aluno: \")\n",
        "    notas = [float(input(f\"Nota {i+1}: \")) for i in range(3)]\n",
        "    alunos[nome] = notas\n",
        "\n",
        "for nome, notas in alunos.items():\n",
        "    media = sum(notas) / 3\n",
        "    print(f\"{nome}: média = {media:.2f}\")"
      ],
      "metadata": {
        "colab": {
          "base_uri": "https://localhost:8080/"
        },
        "id": "BodB_RLW-B-x",
        "outputId": "828b9406-584f-488f-f6b9-81b2201537be"
      },
      "execution_count": null,
      "outputs": [
        {
          "output_type": "stream",
          "name": "stdout",
          "text": [
            "Nome do aluno: joao\n",
            "Nota 1: 6\n",
            "Nota 2: 2\n",
            "Nota 3: 4\n",
            "Nome do aluno: murilo\n",
            "Nota 1: 10\n",
            "Nota 2: 8\n",
            "Nota 3: 9\n",
            "Nome do aluno: david\n",
            "Nota 1: 0\n",
            "Nota 2: 2\n",
            "Nota 3: 1\n",
            "Nome do aluno: vitor\n",
            "Nota 1: 10\n",
            "Nota 2: 10\n",
            "Nota 3: 10\n",
            "Nome do aluno: soares\n",
            "Nota 1: 4\n",
            "Nota 2: 4\n",
            "Nota 3: 4\n",
            "joao: média = 4.00\n",
            "murilo: média = 9.00\n",
            "david: média = 1.00\n",
            "vitor: média = 10.00\n",
            "soares: média = 4.00\n"
          ]
        }
      ]
    },
    {
      "cell_type": "code",
      "source": [
        "#27\n",
        "sinonimos = {\n",
        "    \"feliz\": [\"contente\", \"alegre\", \"satisfeito\"],\n",
        "    \"triste\": [\"abatido\", \"deprimido\", \"infeliz\"]\n",
        "}\n",
        "\n",
        "palavra = input(\"Digite uma palavra: \").lower()\n",
        "print(\"Sinônimos:\", sinonimos.get(palavra, \"Nenhum sinônimo encontrado.\"))"
      ],
      "metadata": {
        "colab": {
          "base_uri": "https://localhost:8080/"
        },
        "id": "PwVUrptY-B75",
        "outputId": "afe68936-7b69-4274-f3e6-f4700f4f05d4"
      },
      "execution_count": null,
      "outputs": [
        {
          "output_type": "stream",
          "name": "stdout",
          "text": [
            "Digite uma palavra: alegre\n",
            "Sinônimos: Nenhum sinônimo encontrado.\n"
          ]
        }
      ]
    },
    {
      "cell_type": "code",
      "source": [
        "#28\n",
        "dicionario = {}\n",
        "for _ in range(10):\n",
        "    palavra = input(\"Digite uma palavra: \")\n",
        "    inicial = palavra[0].lower()\n",
        "    dicionario.setdefault(inicial, []).append(palavra)\n",
        "\n",
        "print(dicionario)"
      ],
      "metadata": {
        "colab": {
          "base_uri": "https://localhost:8080/"
        },
        "id": "ZUT5WH20-B4h",
        "outputId": "0a7e4c75-422b-4f52-9294-da5eb860adbe"
      },
      "execution_count": null,
      "outputs": [
        {
          "output_type": "stream",
          "name": "stdout",
          "text": [
            "Digite uma palavra: bola\n",
            "Digite uma palavra: chuteira\n",
            "Digite uma palavra: trave\n",
            "Digite uma palavra: campo\n",
            "Digite uma palavra: celular\n",
            "Digite uma palavra: mouse\n",
            "Digite uma palavra: teclado\n",
            "Digite uma palavra: monitor\n",
            "Digite uma palavra: computador\n",
            "Digite uma palavra: fone\n",
            "{'b': ['bola'], 'c': ['chuteira', 'campo', 'celular', 'computador'], 't': ['trave', 'teclado'], 'm': ['mouse', 'monitor'], 'f': ['fone']}\n"
          ]
        }
      ]
    },
    {
      "cell_type": "code",
      "source": [
        "#29\n",
        "produtos = {}\n",
        "for _ in range(3):\n",
        "    nome = input(\"Nome do produto: \")\n",
        "    precos = [float(input(f\"Preço loja {i+1}: \")) for i in range(3)]\n",
        "    produtos[nome] = precos\n",
        "\n",
        "maior_variacao = max(produtos.items(), key=lambda item: max(item[1]) - min(item[1]))\n",
        "print(\"Produto com maior variação de preço:\", maior_variacao[0])"
      ],
      "metadata": {
        "colab": {
          "base_uri": "https://localhost:8080/"
        },
        "id": "pe5jRx-j-B1p",
        "outputId": "e154f47b-98bb-438a-cdac-963b29205deb"
      },
      "execution_count": null,
      "outputs": [
        {
          "output_type": "stream",
          "name": "stdout",
          "text": [
            "Nome do produto: placa de vídeo\n",
            "Preço loja 1: 1500\n",
            "Preço loja 2: 1400\n",
            "Preço loja 3: 1450\n",
            "Nome do produto: placa mãe\n",
            "Preço loja 1: 700\n",
            "Preço loja 2: 750\n",
            "Preço loja 3: 680\n",
            "Nome do produto: mouse\n",
            "Preço loja 1: 150\n",
            "Preço loja 2: 200\n",
            "Preço loja 3: 170\n",
            "Produto com maior variação de preço: placa de vídeo\n"
          ]
        }
      ]
    },
    {
      "cell_type": "code",
      "source": [
        "#30\n",
        "frase = input(\"Digite uma frase: \").lower()\n",
        "palavras = frase.split()\n",
        "contador = {}\n",
        "\n",
        "for palavra in palavras:\n",
        "    contador[palavra] = contador.get(palavra, 0) + 1\n",
        "\n",
        "print(contador)"
      ],
      "metadata": {
        "colab": {
          "base_uri": "https://localhost:8080/"
        },
        "id": "KtQAywaQ-Byh",
        "outputId": "f43962be-0e2c-4cc8-d070-3b1222828ad1"
      },
      "execution_count": null,
      "outputs": [
        {
          "output_type": "stream",
          "name": "stdout",
          "text": [
            "Digite uma frase: vou jogar valorant\n",
            "{'vou': 1, 'jogar': 1, 'valorant': 1}\n"
          ]
        }
      ]
    }
  ]
}