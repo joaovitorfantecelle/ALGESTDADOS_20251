{
  "nbformat": 4,
  "nbformat_minor": 0,
  "metadata": {
    "colab": {
      "provenance": [],
      "include_colab_link": true
    },
    "kernelspec": {
      "name": "python3",
      "display_name": "Python 3"
    },
    "language_info": {
      "name": "python"
    }
  },
  "cells": [
    {
      "cell_type": "markdown",
      "metadata": {
        "id": "view-in-github",
        "colab_type": "text"
      },
      "source": [
        "<a href=\"https://colab.research.google.com/github/joaovitorfantecelle/ALGESTDADOS_20251/blob/main/Lista_de_Exerc%C3%ADcios_IV_.ipynb\" target=\"_parent\"><img src=\"https://colab.research.google.com/assets/colab-badge.svg\" alt=\"Open In Colab\"/></a>"
      ]
    },
    {
      "cell_type": "markdown",
      "source": [
        "Victor Gabriel (6 até 10) // João Vitor (1 até 5)"
      ],
      "metadata": {
        "id": "Lb8vWlMi9rcq"
      }
    },
    {
      "cell_type": "code",
      "execution_count": null,
      "metadata": {
        "colab": {
          "base_uri": "https://localhost:8080/"
        },
        "id": "9dLRJIbT9X5b",
        "outputId": "63158dee-f674-47f5-fe16-a221da561073"
      },
      "outputs": [
        {
          "output_type": "stream",
          "name": "stdout",
          "text": [
            "Bem-vindo ao sistema de reservas do Restaurante!\n",
            "Quantas pessoas farão a reserva? 6\n",
            "Você precisará de 2 mesa(s) para acomodar 6 pessoa(s).\n"
          ]
        }
      ],
      "source": [
        "#1\n",
        "print(\"Bem vindo ao sistema de reservas do Restaurante!\")\n",
        "pessoas = int(input(\"Quantas pessoas farão a reserva? \"))\n",
        "lugares_por_mesa = 4\n",
        "mesas_necessarias = (pessoas + lugares_por_mesa - 1) // lugares_por_mesa\n",
        "print(f\"Você precisará de {mesas_necessarias} mesa(s) para acomodar {pessoas} pessoa(s).\")"
      ]
    },
    {
      "cell_type": "code",
      "source": [
        "#2\n",
        "estoque = {}\n",
        "print(\"Bem vindo ao sistema de controle de estoque!\")\n",
        "while True:\n",
        "    nome = input(\"Digite o nome do produto (ou 'sair' para encerrar): \").strip()\n",
        "    if nome.lower() == 'sair':\n",
        "        break\n",
        "    quantidade = int(input(f\"Digite a quantidade em estoque do produto '{nome}': \"))\n",
        "    estoque[nome] = quantidade\n",
        "    if quantidade < 5:\n",
        "        print(f\"Atenção! O produto '{nome}' está com estoque baixo ({quantidade} unidades). Reposição recomendada.\\n\")\n",
        "    else:\n",
        "        print(f\"Produto '{nome}' registrado com sucesso!\\n\")\n",
        "print(\"\\nResumo do estoque:\")\n",
        "for produto, qtd in estoque.items():\n",
        "    print(f\"- {produto}: {qtd} unidade(s)\")"
      ],
      "metadata": {
        "colab": {
          "base_uri": "https://localhost:8080/"
        },
        "id": "KNL96Fxs-Bvg",
        "outputId": "64165c76-fc44-4548-d15e-058c80fe4436"
      },
      "execution_count": null,
      "outputs": [
        {
          "output_type": "stream",
          "name": "stdout",
          "text": [
            "Bem-vindo ao sistema de controle de estoque!\n",
            "Digite o nome do produto (ou 'sair' para encerrar): chinelo\n",
            "Digite a quantidade em estoque do produto 'chinelo': 1\n",
            "Atenção! O produto 'chinelo' está com estoque baixo (1 unidades). Reposição recomendada.\n",
            "\n",
            "Digite o nome do produto (ou 'sair' para encerrar): sair\n",
            "\n",
            "Resumo do estoque:\n",
            "- chinelo: 1 unidade(s)\n"
          ]
        }
      ]
    },
    {
      "cell_type": "code",
      "source": [
        "#3\n",
        "print(\"Bem vindo ao Quiz!\")\n",
        "perguntas = [\n",
        "    {\"pergunta\": \"Qual é a capital do Brasil?\", \"opcoes\": [\"A) Rio de Janeiro\", \"B) Brasília\", \"C) São Paulo\"], \"resposta\": \"B\"},\n",
        "    {\"pergunta\": \"Quanto é 7 x 8?\", \"opcoes\": [\"A) 54\", \"B) 56\", \"C) 58\"], \"resposta\": \"B\"},\n",
        "    {\"pergunta\": \"Qual planeta é conhecido como o planeta vermelho?\", \"opcoes\": [\"A) Marte\", \"B) Vênus\", \"C) Júpiter\"], \"resposta\": \"A\"}\n",
        "]\n",
        "pontos = 0\n",
        "for p in perguntas:\n",
        "    print(\"\\n\" + p[\"pergunta\"])\n",
        "    for opcao in p[\"opcoes\"]:\n",
        "        print(opcao)\n",
        "    resposta = input(\"Sua resposta (A/B/C): \").strip().upper()\n",
        "    if resposta == p[\"resposta\"]:\n",
        "        print(\"Resposta correta!\")\n",
        "        pontos += 1\n",
        "    else:\n",
        "        print(\"Resposta errada!\")\n",
        "print(f\"\\nVocê acertou {pontos} de {len(perguntas)} perguntas.\")\n",
        "if pontos == len(perguntas):\n",
        "    print(\"Parabéns! Você mandou muito bem!\")\n",
        "elif pontos > 0:\n",
        "    print(\"Bom trabalho! Mas dá pra melhorar.\")\n",
        "else:\n",
        "    print(\"Não foi dessa vez... tente novamente!\")"
      ],
      "metadata": {
        "colab": {
          "base_uri": "https://localhost:8080/"
        },
        "id": "h_2_Sr-6-sfk",
        "outputId": "75c9817b-1b68-4339-d7cd-c2afb693ebda"
      },
      "execution_count": null,
      "outputs": [
        {
          "output_type": "stream",
          "name": "stdout",
          "text": [
            "Bem-vindo ao Quiz!\n",
            "\n",
            "Qual é a capital do Brasil?\n",
            "A) Rio de Janeiro\n",
            "B) Brasília\n",
            "C) São Paulo\n",
            "Sua resposta (A/B/C): b\n",
            "Resposta correta!\n",
            "\n",
            "Quanto é 7 x 8?\n",
            "A) 54\n",
            "B) 56\n",
            "C) 58\n",
            "Sua resposta (A/B/C): b\n",
            "Resposta correta!\n",
            "\n",
            "Qual planeta é conhecido como o planeta vermelho?\n",
            "A) Marte\n",
            "B) Vênus\n",
            "C) Júpiter\n",
            "Sua resposta (A/B/C): a\n",
            "Resposta correta!\n",
            "\n",
            "Você acertou 3 de 3 perguntas.\n",
            "Parabéns! Você mandou muito bem!\n"
          ]
        }
      ]
    },
    {
      "cell_type": "code",
      "source": [
        "#4\n",
        "codigo_correto = \"9530\"\n",
        "tentativas = 0\n",
        "max_tentativas = 3\n",
        "print(\"Sistema de controle de acesso ao edifício.\")\n",
        "while tentativas < max_tentativas:\n",
        "    codigo = input(\"Digite o código de acesso: \")\n",
        "    if codigo == codigo_correto:\n",
        "        print(\"Acesso concedido. Bem-vindo!\")\n",
        "        break\n",
        "    else:\n",
        "        tentativas += 1\n",
        "        print(f\"Código incorreto. Tentativas restantes: {max_tentativas - tentativas}\")\n",
        "if tentativas == max_tentativas:\n",
        "    print(\"Acesso bloqueado. Número máximo de tentativas atingido.\")"
      ],
      "metadata": {
        "id": "qhPdbQM2_LHc",
        "colab": {
          "base_uri": "https://localhost:8080/"
        },
        "outputId": "e024caa1-6d15-459d-c1ee-fb199c9653e3"
      },
      "execution_count": null,
      "outputs": [
        {
          "output_type": "stream",
          "name": "stdout",
          "text": [
            "Sistema de controle de acesso ao edifício.\n",
            "Digite o código de acesso: 1234\n",
            "Código incorreto. Tentativas restantes: 2\n",
            "Digite o código de acesso: 5461\n",
            "Código incorreto. Tentativas restantes: 1\n",
            "Digite o código de acesso: 9530\n",
            "Acesso concedido. Bem-vindo!\n"
          ]
        }
      ]
    },
    {
      "cell_type": "code",
      "source": [
        "#5\n",
        "print(\"Planejador de viagem de carro \")\n",
        "distancia = float(input(\"Digite a distância total da viagem (em km): \"))\n",
        "capacidade_tanque = float(input(\"Digite a capacidade do tanque de combustível (em litros): \"))\n",
        "consumo = float(input(\"Digite o consumo médio do carro (km por litro): \"))\n",
        "autonomia = capacidade_tanque * consumo\n",
        "paradas = distancia / autonomia\n",
        "paradas_necessarias = int(paradas) if paradas.is_integer() else int(paradas) + 1\n",
        "print(f\"\\nPara uma viagem de {distancia} km, você precisará fazer {paradas_necessarias} parada(s) para reabastecer.\")"
      ],
      "metadata": {
        "id": "U_4gfJTK_cHz",
        "colab": {
          "base_uri": "https://localhost:8080/"
        },
        "outputId": "e87372ed-1dd9-4304-8787-30ae1b911556"
      },
      "execution_count": null,
      "outputs": [
        {
          "output_type": "stream",
          "name": "stdout",
          "text": [
            "Planejador de viagem de carro \n",
            "Digite a distância total da viagem (em km): 800\n",
            "Digite a capacidade do tanque de combustível (em litros): 45\n",
            "Digite o consumo médio do carro (km por litro): 10\n",
            "\n",
            "Para uma viagem de 800.0 km, você precisará fazer 2 parada(s) para reabastecer.\n"
          ]
        }
      ]
    },
    {
      "cell_type": "code",
      "source": [
        "#6\n",
        "fs = []\n",
        "ns = []\n",
        "while True:\n",
        "    f = input(\"titulo (ou 'fim' para encerrar a avaliaçâo): \")\n",
        "    if f.lower() == \"fim\":\n",
        "        break\n",
        "    n = float(input(\"nota (0-10): \"))\n",
        "    fs.append(f)\n",
        "    ns.append(n)\n",
        "if fs:\n",
        "    m = sum(ns) / len(ns)\n",
        "    print(f\"\\nmedia: {m:.2f}\")\n",
        "    print(\"\\naltamente recomendados:\")\n",
        "    for i in range(len(fs)):\n",
        "        if ns[i] > 8:\n",
        "            print(f\"- {fs[i]}\")\n",
        "else:\n",
        "    print(\"nada avaliado (tente novamente).\")"
      ],
      "metadata": {
        "id": "rarp-wXs_dI5",
        "colab": {
          "base_uri": "https://localhost:8080/"
        },
        "outputId": "3fe2cc44-ef68-4690-8190-4f7838fa9dd0"
      },
      "execution_count": null,
      "outputs": [
        {
          "output_type": "stream",
          "name": "stdout",
          "text": [
            "titulo (ou 'fim' para encerrar a avaliaçâo): matrix\n",
            "nota (0-10): 9\n",
            "titulo (ou 'fim' para encerrar a avaliaçâo): interestelar\n",
            "nota (0-10): 8\n",
            "titulo (ou 'fim' para encerrar a avaliaçâo): barbie\n",
            "nota (0-10): 5\n",
            "titulo (ou 'fim' para encerrar a avaliaçâo): fim\n",
            "\n",
            "media: 7.33\n",
            "\n",
            "altamente recomendados:\n",
            "- matrix\n"
          ]
        }
      ]
    },
    {
      "cell_type": "code",
      "source": [
        "#7\n",
        "ts = []\n",
        "print (\"'T' É a temperatura no horário (h) \")\n",
        "for h in range(24):\n",
        "    t = float(input(f\"temperatura em {h}h: \"))\n",
        "    ts.append(t)\n",
        "med = sum(ts) / 24\n",
        "ma = max(ts)\n",
        "mi = min(ts)\n",
        "print(f\"\\nmedia: {med:.1f}C\")\n",
        "print(f\"max: {ma:.1f}C\")\n",
        "print(f\"min: {mi:.1f}C\")\n",
        "if any(t > 30 for t in ts):\n",
        "    print(\"altas temperatura (> 30°C)\")\n",
        "if any(t < 15 for t in ts):\n",
        "    print(\"baixas temperatura (< 15°C)\")"
      ],
      "metadata": {
        "id": "6M5n79Fp_fEZ",
        "colab": {
          "base_uri": "https://localhost:8080/"
        },
        "outputId": "ce728afd-c4f9-4c93-b08b-b55ea8f6d68f"
      },
      "execution_count": null,
      "outputs": [
        {
          "output_type": "stream",
          "name": "stdout",
          "text": [
            "'T' É a temperatura no horário \n",
            "temperatura em 0h: 16\n",
            "temperatura em 1h: 16\n",
            "temperatura em 2h: 16\n",
            "temperatura em 3h: 16\n",
            "temperatura em 4h: 17\n",
            "temperatura em 5h: 17\n",
            "temperatura em 6h: 19\n",
            "temperatura em 7h: 19\n",
            "temperatura em 8h: 20\n",
            "temperatura em 9h: 22\n",
            "temperatura em 10h: 22\n",
            "temperatura em 11h: 21\n",
            "temperatura em 12h: 25\n",
            "temperatura em 13h: 26\n",
            "temperatura em 14h: 28\n",
            "temperatura em 15h: 31\n",
            "temperatura em 16h: 32\n",
            "temperatura em 17h: 28\n",
            "temperatura em 18h: 26\n",
            "temperatura em 19h: 22\n",
            "temperatura em 20h: 21\n",
            "temperatura em 21h: 19\n",
            "temperatura em 22h: 17\n",
            "temperatura em 23h: 15\n",
            "\n",
            "media: 21.3C\n",
            "max: 32.0C\n",
            "min: 15.0C\n",
            "altas temperatura > 30°C\n"
          ]
        }
      ]
    },
    {
      "cell_type": "code",
      "source": [
        "#8\n",
        "lbs = []\n",
        "while True:\n",
        "    t = input(\"coloque titulo ou 'fim' para enecerrar: \")\n",
        "    if t.lower() == \"fim\":\n",
        "        break\n",
        "    a = input(\"autor: \")\n",
        "    lbs.append((t, a))\n",
        "while True:\n",
        "    op = input(\"\\nbuscar por autor?(s/n) \")\n",
        "    if op.lower() != \"s\":\n",
        "        break\n",
        "    b = input(\"autor: \")\n",
        "    print(\"livros:\")\n",
        "    achou = False\n",
        "    for l in lbs:\n",
        "        if l[1].lower() == b.lower():\n",
        "            print(f\"- {l[0]}\")\n",
        "            achou = True\n",
        "    if not achou:\n",
        "        print(\"nenhum livro\")"
      ],
      "metadata": {
        "id": "FRSRzMCA_gDx",
        "colab": {
          "base_uri": "https://localhost:8080/"
        },
        "outputId": "fa1eecd6-aec1-41a2-b770-82483d660e38"
      },
      "execution_count": null,
      "outputs": [
        {
          "name": "stdout",
          "output_type": "stream",
          "text": [
            "coloque titulo ou 'fim' para enecerrar: senhor dos aneis\n",
            "autor: nao lembro\n",
            "coloque titulo ou 'fim' para enecerrar: harry poter\n",
            "autor: sei la\n",
            "coloque titulo ou 'fim' para enecerrar: o principe\n",
            "autor: nicolau maquiavel\n",
            "coloque titulo ou 'fim' para enecerrar: fim\n",
            "\n",
            "buscar por autor?(s/n) s\n",
            "autor: sei la\n",
            "livros:\n",
            "- harry poter\n",
            "\n",
            "buscar por autor?(s/n) n\n"
          ]
        }
      ]
    },
    {
      "cell_type": "code",
      "source": [
        "#9\n",
        "ts = []\n",
        "while True:\n",
        "    t = input(\"tarefa ou 'fim' para encerrar: \")\n",
        "    if t.lower() == \"fim\":\n",
        "        break\n",
        "    p = input(\"prioridade alto/medio/baixo: \").lower()\n",
        "    ts.append([t, p, False])\n",
        "print(\"\\ntarefas por prioridade:\")\n",
        "for niv in [\"alto\", \"medio\", \"baixo\"]:\n",
        "    for i, x in enumerate(ts):\n",
        "        if x[1] == niv and not x[2]:\n",
        "            print(f\"{i} - {x[0]} ({x[1]})\")\n",
        "while True:\n",
        "    op = input(\"\\nmarcar como concluida?(s/n): \")\n",
        "    if op.lower() != \"s\":\n",
        "        break\n",
        "    i = int(input(\"numero da tarefa: \"))\n",
        "    if 0 <= i < len(ts):\n",
        "        ts[i][2] = True\n",
        "    print(\"\\npendentes:\")\n",
        "    for niv in [\"alto\", \"medio\", \"baixo\"]:\n",
        "        for j, x in enumerate(ts):\n",
        "            if x[1] == niv and not x[2]:\n",
        "                print(f\"{j} - {x[0]} ({x[1]})\")"
      ],
      "metadata": {
        "id": "px8LyPjC_g95",
        "colab": {
          "base_uri": "https://localhost:8080/"
        },
        "outputId": "7ec51daf-01a4-4dfd-9925-fae3b6f66bc6"
      },
      "execution_count": null,
      "outputs": [
        {
          "name": "stdout",
          "output_type": "stream",
          "text": [
            "tarefa ou 'fim' para encerrar: limpar casa\n",
            "prioridade alto/medio/baixo: medio\n",
            "tarefa ou 'fim' para encerrar: fazer lista de algortimo\n",
            "prioridade alto/medio/baixo: medio\n",
            "tarefa ou 'fim' para encerrar: comprar comida\n",
            "prioridade alto/medio/baixo: alto\n",
            "tarefa ou 'fim' para encerrar: fim\n",
            "\n",
            "tarefas por prioridade:\n",
            "2 - comprar comida (alto)\n",
            "0 - limpar casa (medio)\n",
            "1 - fazer lista de algortimo (medio)\n",
            "\n",
            "marcar como concluida?(s/n): s\n",
            "numero da tarefa: 1\n",
            "\n",
            "pendentes:\n",
            "2 - comprar comida (alto)\n",
            "0 - limpar casa (medio)\n",
            "\n",
            "marcar como concluida?(s/n): n\n"
          ]
        }
      ]
    },
    {
      "cell_type": "code",
      "source": [
        "#10                                                                                                                          #10\n",
        "ags = []\n",
        "exs = []\n",
        "for d in range(7):\n",
        "    a = int(input(f\"dia {d+1} - copos de agua: \"))\n",
        "    e = int(input(f\"dia {d+1} - minutos de exercicio: \"))\n",
        "    ags.append(a)\n",
        "    exs.append(e)\n",
        "m = sum(ags) / 7\n",
        "me = sum(exs) / 7\n",
        "print(f\"\\nmedia diaria de agua: {m:.1f} copos\")\n",
        "print(f\"media diaria de exercicio: {me:.1f} min\")\n",
        "if ma >= 8:\n",
        "    print(\"agua: ok\")\n",
        "else:\n",
        "    print(\"agua: ruim\")\n",
        "if me >= 30:\n",
        "    print(\"exercicio: ok\")\n",
        "else:\n",
        "    print(\"exercicio: ruim\")"
      ],
      "metadata": {
        "id": "cuxSbzCN_i5R",
        "colab": {
          "base_uri": "https://localhost:8080/"
        },
        "outputId": "f061904a-a8ab-46ad-c129-980bc96a75d3"
      },
      "execution_count": null,
      "outputs": [
        {
          "output_type": "stream",
          "name": "stdout",
          "text": [
            "dia 1 - copos de agua: 2\n",
            "dia 1 - minutos de exercicio: 10\n",
            "dia 2 - copos de agua: 3\n",
            "dia 2 - minutos de exercicio: 5\n",
            "dia 3 - copos de agua: 4\n",
            "dia 3 - minutos de exercicio: 20\n",
            "dia 4 - copos de agua: 1\n",
            "dia 4 - minutos de exercicio: 0\n",
            "dia 5 - copos de agua: 4\n",
            "dia 5 - minutos de exercicio: 30\n",
            "dia 6 - copos de agua: 2\n",
            "dia 6 - minutos de exercicio: 30\n",
            "dia 7 - copos de agua: 3\n",
            "dia 7 - minutos de exercicio: 30\n",
            "\n",
            "media diaria de agua: 2.7 copos\n",
            "media diaria de exercicio: 17.9 min\n",
            "agua: ok\n",
            "exercicio: ruim\n"
          ]
        }
      ]
    }
  ]
}